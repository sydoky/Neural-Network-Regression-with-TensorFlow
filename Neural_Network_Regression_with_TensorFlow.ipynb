{
  "nbformat": 4,
  "nbformat_minor": 0,
  "metadata": {
    "colab": {
      "name": "Neural Network Regression with TensorFlow.ipynb",
      "provenance": [],
      "authorship_tag": "ABX9TyPXcLSSPdMAJNOe0iDuc3JL",
      "include_colab_link": true
    },
    "kernelspec": {
      "name": "python3",
      "display_name": "Python 3"
    },
    "language_info": {
      "name": "python"
    }
  },
  "cells": [
    {
      "cell_type": "markdown",
      "metadata": {
        "id": "view-in-github",
        "colab_type": "text"
      },
      "source": [
        "<a href=\"https://colab.research.google.com/github/sydoky/Neural-Network-Regression-with-TensorFlow/blob/main/Neural_Network_Regression_with_TensorFlow.ipynb\" target=\"_parent\"><img src=\"https://colab.research.google.com/assets/colab-badge.svg\" alt=\"Open In Colab\"/></a>"
      ]
    },
    {
      "cell_type": "code",
      "execution_count": 1,
      "metadata": {
        "colab": {
          "base_uri": "https://localhost:8080/"
        },
        "id": "bCW_vtYT-LGZ",
        "outputId": "96ca0f81-86f7-43ad-8d70-f3c598728cf2"
      },
      "outputs": [
        {
          "output_type": "stream",
          "name": "stdout",
          "text": [
            "2.7.0\n"
          ]
        }
      ],
      "source": [
        "import tensorflow as tf\n",
        "print(tf.__version__)"
      ]
    },
    {
      "cell_type": "markdown",
      "source": [
        "# **Creating data to view and fit**"
      ],
      "metadata": {
        "id": "_LICUNs4-aGZ"
      }
    },
    {
      "cell_type": "code",
      "source": [
        "import numpy as np\n",
        "import matplotlib.pyplot as plt\n",
        "\n",
        "#Create Features \n",
        "X=np.array([-7.0,-4.0,-1.0,2.0,5.0,8.0,11.0,14.0])\n",
        "\n",
        "#create labels\n",
        "y=np.array([3.0,6.0,9.0,12.0,15.0,18.0,21.0,24.0])\n",
        "\n",
        "#Visualize it\n",
        "plt.scatter(X,y)"
      ],
      "metadata": {
        "colab": {
          "base_uri": "https://localhost:8080/",
          "height": 287
        },
        "id": "PIXeIRcO-i-5",
        "outputId": "8fbde2b1-27bd-45fe-8d43-b142cf296a10"
      },
      "execution_count": 2,
      "outputs": [
        {
          "output_type": "execute_result",
          "data": {
            "text/plain": [
              "<matplotlib.collections.PathCollection at 0x7f5f177b6550>"
            ]
          },
          "metadata": {},
          "execution_count": 2
        },
        {
          "output_type": "display_data",
          "data": {
            "image/png": "[encoded data removed]",
            "text/plain": [
              "<Figure size 432x288 with 1 Axes>"
            ]
          },
          "metadata": {
            "needs_background": "light"
          }
        }
      ]
    },
    {
      "cell_type": "markdown",
      "source": [
        "# Regression input shapes and output shapes\n",
        "\n",
        "# The input shape is the shape of your data that goes to the model\n",
        "\n",
        "# The output shape is the shape of your data that you want to come out of your model"
      ],
      "metadata": {
        "id": "crG8-U9F_wM4"
      }
    },
    {
      "cell_type": "code",
      "source": [
        "#Example of input and output shapes of a regression model\n",
        "\n",
        "house_info=tf.constant([\"bedroom\", \"bathroom\", \"garage\"])\n",
        "\n",
        "house_price=tf.constant([939700])\n",
        "\n",
        "house_info,house_price"
      ],
      "metadata": {
        "colab": {
          "base_uri": "https://localhost:8080/"
        },
        "id": "m92xhmZ_Atu3",
        "outputId": "220d38d4-1061-47bf-a2a7-7338eba204d1"
      },
      "execution_count": 3,
      "outputs": [
        {
          "output_type": "execute_result",
          "data": {
            "text/plain": [
              "(<tf.Tensor: shape=(3,), dtype=string, numpy=array([b'bedroom', b'bathroom', b'garage'], dtype=object)>,\n",
              " <tf.Tensor: shape=(1,), dtype=int32, numpy=array([939700], dtype=int32)>)"
            ]
          },
          "metadata": {},
          "execution_count": 3
        }
      ]
    },
    {
      "cell_type": "code",
      "source": [
        "house_info.shape"
      ],
      "metadata": {
        "colab": {
          "base_uri": "https://localhost:8080/"
        },
        "id": "kO-ijTkPBPXe",
        "outputId": "a7c68d5b-82f1-4ce1-fead-b7ff25afae58"
      },
      "execution_count": 4,
      "outputs": [
        {
          "output_type": "execute_result",
          "data": {
            "text/plain": [
              "TensorShape([3])"
            ]
          },
          "metadata": {},
          "execution_count": 4
        }
      ]
    },
    {
      "cell_type": "code",
      "source": [
        "house_info.ndim"
      ],
      "metadata": {
        "colab": {
          "base_uri": "https://localhost:8080/"
        },
        "id": "VHz4fipZBaM5",
        "outputId": "e69883d3-a385-40df-c95a-deafa2c74fc6"
      },
      "execution_count": 5,
      "outputs": [
        {
          "output_type": "execute_result",
          "data": {
            "text/plain": [
              "1"
            ]
          },
          "metadata": {},
          "execution_count": 5
        }
      ]
    },
    {
      "cell_type": "code",
      "source": [
        "import numpy as np\n",
        "import matplotlib.pyplot as plt\n",
        "\n",
        "#Create Features \n",
        "X=np.array([-7.0,-4.0,-1.0,2.0,5.0,8.0,11.0,14.0])\n",
        "\n",
        "#create labels\n",
        "y=np.array([3.0,6.0,9.0,12.0,15.0,18.0,21.0,24.0])\n",
        "\n",
        "#Visualize it\n",
        "plt.scatter(X,y)"
      ],
      "metadata": {
        "colab": {
          "base_uri": "https://localhost:8080/",
          "height": 287
        },
        "id": "gcZrHeGcDZOA",
        "outputId": "61dd356d-c576-413f-db9b-fc78b30c8b1c"
      },
      "execution_count": 6,
      "outputs": [
        {
          "output_type": "execute_result",
          "data": {
            "text/plain": [
              "<matplotlib.collections.PathCollection at 0x7f5f177b63d0>"
            ]
          },
          "metadata": {},
          "execution_count": 6
        },
        {
          "output_type": "display_data",
          "data": {
            "image/png": "[encoded data removed]",
            "text/plain": [
              "<Figure size 432x288 with 1 Axes>"
            ]
          },
          "metadata": {
            "needs_background": "light"
          }
        }
      ]
    },
    {
      "cell_type": "code",
      "source": [
        "input_shape=X[0].shape\n",
        "\n",
        "output_shape=y[0].shape"
      ],
      "metadata": {
        "id": "igbutmlZDwGK"
      },
      "execution_count": 7,
      "outputs": []
    },
    {
      "cell_type": "code",
      "source": [
        "input_shape"
      ],
      "metadata": {
        "colab": {
          "base_uri": "https://localhost:8080/"
        },
        "id": "J9XrQlWhD6lb",
        "outputId": "06954976-4808-412d-d5d8-9dfd3f4b6fba"
      },
      "execution_count": 8,
      "outputs": [
        {
          "output_type": "execute_result",
          "data": {
            "text/plain": [
              "()"
            ]
          },
          "metadata": {},
          "execution_count": 8
        }
      ]
    },
    {
      "cell_type": "code",
      "source": [
        "output_shape"
      ],
      "metadata": {
        "colab": {
          "base_uri": "https://localhost:8080/"
        },
        "id": "Xr4UBE_tEE0y",
        "outputId": "f41e72ab-5cf2-4ddc-fe76-0ea112ef1d14"
      },
      "execution_count": 9,
      "outputs": [
        {
          "output_type": "execute_result",
          "data": {
            "text/plain": [
              "()"
            ]
          },
          "metadata": {},
          "execution_count": 9
        }
      ]
    },
    {
      "cell_type": "code",
      "source": [
        "X[0]"
      ],
      "metadata": {
        "colab": {
          "base_uri": "https://localhost:8080/"
        },
        "id": "rKoSdTFBEHPS",
        "outputId": "f5c33acc-4261-44e1-d63e-12cdbe41a5d0"
      },
      "execution_count": 10,
      "outputs": [
        {
          "output_type": "execute_result",
          "data": {
            "text/plain": [
              "-7.0"
            ]
          },
          "metadata": {},
          "execution_count": 10
        }
      ]
    },
    {
      "cell_type": "code",
      "source": [
        "#Set random seed\n",
        "tf.random.set_seed(42)\n",
        "\n",
        "#Create a model using the Sequential API\n",
        "model=tf.keras.Sequential([\n",
        "                           tf.keras.layers.Dense(1)\n",
        "])\n",
        "\n",
        "#Compile The Model\n",
        "model.compile(loss=tf.keras.losses.mae,\n",
        "              optimizer=tf.keras.optimizers.SGD(),\n",
        "              metrics=[\"mae\"])\n",
        "#There are 3 things I need to remember when I compile , which are Loss, Optimizer, and Metrics. You can find them in slides.\n",
        "\n",
        "\n",
        "#Now let's fit the model\n",
        "model.fit(tf.expand_dims(X,axis=1),y,epochs=5)\n",
        "#epochs are how is my machine is training , 5 times below "
      ],
      "metadata": {
        "colab": {
          "base_uri": "https://localhost:8080/"
        },
        "id": "B4yLtexMESWa",
        "outputId": "02d3a95f-f103-42dc-e1ba-983860eaba12"
      },
      "execution_count": 11,
      "outputs": [
        {
          "output_type": "stream",
          "name": "stdout",
          "text": [
            "Epoch 1/5\n",
            "1/1 [==============================] - 1s 653ms/step - loss: 11.5048 - mae: 11.5048\n",
            "Epoch 2/5\n",
            "1/1 [==============================] - 0s 8ms/step - loss: 11.3723 - mae: 11.3723\n",
            "Epoch 3/5\n",
            "1/1 [==============================] - 0s 8ms/step - loss: 11.2398 - mae: 11.2398\n",
            "Epoch 4/5\n",
            "1/1 [==============================] - 0s 5ms/step - loss: 11.1073 - mae: 11.1073\n",
            "Epoch 5/5\n",
            "1/1 [==============================] - 0s 5ms/step - loss: 10.9748 - mae: 10.9748\n"
          ]
        },
        {
          "output_type": "execute_result",
          "data": {
            "text/plain": [
              "<keras.callbacks.History at 0x7f5f13981e10>"
            ]
          },
          "metadata": {},
          "execution_count": 11
        }
      ]
    },
    {
      "cell_type": "code",
      "source": [
        "#Make a prediction with the model\n",
        "model.predict([17.0])"
      ],
      "metadata": {
        "colab": {
          "base_uri": "https://localhost:8080/"
        },
        "id": "3e8NppOnGco1",
        "outputId": "d27700f4-5533-49d6-80c4-6bf5665eaad3"
      },
      "execution_count": 12,
      "outputs": [
        {
          "output_type": "execute_result",
          "data": {
            "text/plain": [
              "array([[12.716021]], dtype=float32)"
            ]
          },
          "metadata": {},
          "execution_count": 12
        }
      ]
    },
    {
      "cell_type": "markdown",
      "source": [
        "# **Improving a model**"
      ],
      "metadata": {
        "id": "UPYn47tZH6A_"
      }
    },
    {
      "cell_type": "code",
      "source": [
        "#Set random seed\n",
        "tf.random.set_seed(42)\n",
        "\n",
        "#Create a model using the Sequential API\n",
        "model=tf.keras.Sequential([\n",
        "                           tf.keras.layers.Dense(1)\n",
        "])\n",
        "\n",
        "#Compile The Model\n",
        "model.compile(loss=tf.keras.losses.mae,\n",
        "              optimizer=tf.keras.optimizers.SGD(),\n",
        "              metrics=[\"mae\"])\n",
        "\n",
        "#Fit The Model\n",
        "model.fit(tf.expand_dims(X,axis=1),y,epochs=100)"
      ],
      "metadata": {
        "colab": {
          "base_uri": "https://localhost:8080/"
        },
        "id": "g4_vwQRPH4RP",
        "outputId": "0fce0953-ec6d-4fb3-dfb2-1c8aa37e4007"
      },
      "execution_count": 13,
      "outputs": [
        {
          "output_type": "stream",
          "name": "stdout",
          "text": [
            "Epoch 1/100\n",
            "1/1 [==============================] - 0s 383ms/step - loss: 11.5048 - mae: 11.5048\n",
            "Epoch 2/100\n",
            "1/1 [==============================] - 0s 9ms/step - loss: 11.3723 - mae: 11.3723\n",
            "Epoch 3/100\n",
            "1/1 [==============================] - 0s 5ms/step - loss: 11.2398 - mae: 11.2398\n",
            "Epoch 4/100\n",
            "1/1 [==============================] - 0s 3ms/step - loss: 11.1073 - mae: 11.1073\n",
            "Epoch 5/100\n",
            "1/1 [==============================] - 0s 5ms/step - loss: 10.9748 - mae: 10.9748\n",
            "Epoch 6/100\n",
            "1/1 [==============================] - 0s 3ms/step - loss: 10.8423 - mae: 10.8423\n",
            "Epoch 7/100\n",
            "1/1 [==============================] - 0s 3ms/step - loss: 10.7098 - mae: 10.7098\n",
            "Epoch 8/100\n",
            "1/1 [==============================] - 0s 6ms/step - loss: 10.5773 - mae: 10.5773\n",
            "Epoch 9/100\n",
            "1/1 [==============================] - 0s 4ms/step - loss: 10.4448 - mae: 10.4448\n",
            "Epoch 10/100\n",
            "1/1 [==============================] - 0s 8ms/step - loss: 10.3123 - mae: 10.3123\n",
            "Epoch 11/100\n",
            "1/1 [==============================] - 0s 3ms/step - loss: 10.1798 - mae: 10.1798\n",
            "Epoch 12/100\n",
            "1/1 [==============================] - 0s 28ms/step - loss: 10.0473 - mae: 10.0473\n",
            "Epoch 13/100\n",
            "1/1 [==============================] - 0s 4ms/step - loss: 9.9148 - mae: 9.9148\n",
            "Epoch 14/100\n",
            "1/1 [==============================] - 0s 7ms/step - loss: 9.7823 - mae: 9.7823\n",
            "Epoch 15/100\n",
            "1/1 [==============================] - 0s 8ms/step - loss: 9.6498 - mae: 9.6498\n",
            "Epoch 16/100\n",
            "1/1 [==============================] - 0s 9ms/step - loss: 9.5173 - mae: 9.5173\n",
            "Epoch 17/100\n",
            "1/1 [==============================] - 0s 6ms/step - loss: 9.3848 - mae: 9.3848\n",
            "Epoch 18/100\n",
            "1/1 [==============================] - 0s 7ms/step - loss: 9.2523 - mae: 9.2523\n",
            "Epoch 19/100\n",
            "1/1 [==============================] - 0s 7ms/step - loss: 9.1198 - mae: 9.1198\n",
            "Epoch 20/100\n",
            "1/1 [==============================] - 0s 9ms/step - loss: 8.9873 - mae: 8.9873\n",
            "Epoch 21/100\n",
            "1/1 [==============================] - 0s 16ms/step - loss: 8.8548 - mae: 8.8548\n",
            "Epoch 22/100\n",
            "1/1 [==============================] - 0s 12ms/step - loss: 8.7223 - mae: 8.7223\n",
            "Epoch 23/100\n",
            "1/1 [==============================] - 0s 17ms/step - loss: 8.5898 - mae: 8.5898\n",
            "Epoch 24/100\n",
            "1/1 [==============================] - 0s 10ms/step - loss: 8.4573 - mae: 8.4573\n",
            "Epoch 25/100\n",
            "1/1 [==============================] - 0s 3ms/step - loss: 8.3248 - mae: 8.3248\n",
            "Epoch 26/100\n",
            "1/1 [==============================] - 0s 12ms/step - loss: 8.1923 - mae: 8.1923\n",
            "Epoch 27/100\n",
            "1/1 [==============================] - 0s 6ms/step - loss: 8.0598 - mae: 8.0598\n",
            "Epoch 28/100\n",
            "1/1 [==============================] - 0s 5ms/step - loss: 7.9273 - mae: 7.9273\n",
            "Epoch 29/100\n",
            "1/1 [==============================] - 0s 7ms/step - loss: 7.7948 - mae: 7.7948\n",
            "Epoch 30/100\n",
            "1/1 [==============================] - 0s 6ms/step - loss: 7.6623 - mae: 7.6623\n",
            "Epoch 31/100\n",
            "1/1 [==============================] - 0s 8ms/step - loss: 7.5298 - mae: 7.5298\n",
            "Epoch 32/100\n",
            "1/1 [==============================] - 0s 5ms/step - loss: 7.3973 - mae: 7.3973\n",
            "Epoch 33/100\n",
            "1/1 [==============================] - 0s 11ms/step - loss: 7.2648 - mae: 7.2648\n",
            "Epoch 34/100\n",
            "1/1 [==============================] - 0s 3ms/step - loss: 7.2525 - mae: 7.2525\n",
            "Epoch 35/100\n",
            "1/1 [==============================] - 0s 9ms/step - loss: 7.2469 - mae: 7.2469\n",
            "Epoch 36/100\n",
            "1/1 [==============================] - 0s 8ms/step - loss: 7.2413 - mae: 7.2413\n",
            "Epoch 37/100\n",
            "1/1 [==============================] - 0s 6ms/step - loss: 7.2356 - mae: 7.2356\n",
            "Epoch 38/100\n",
            "1/1 [==============================] - 0s 10ms/step - loss: 7.2300 - mae: 7.2300\n",
            "Epoch 39/100\n",
            "1/1 [==============================] - 0s 11ms/step - loss: 7.2244 - mae: 7.2244\n",
            "Epoch 40/100\n",
            "1/1 [==============================] - 0s 8ms/step - loss: 7.2188 - mae: 7.2188\n",
            "Epoch 41/100\n",
            "1/1 [==============================] - 0s 3ms/step - loss: 7.2131 - mae: 7.2131\n",
            "Epoch 42/100\n",
            "1/1 [==============================] - 0s 13ms/step - loss: 7.2075 - mae: 7.2075\n",
            "Epoch 43/100\n",
            "1/1 [==============================] - 0s 12ms/step - loss: 7.2019 - mae: 7.2019\n",
            "Epoch 44/100\n",
            "1/1 [==============================] - 0s 19ms/step - loss: 7.1963 - mae: 7.1963\n",
            "Epoch 45/100\n",
            "1/1 [==============================] - 0s 6ms/step - loss: 7.1906 - mae: 7.1906\n",
            "Epoch 46/100\n",
            "1/1 [==============================] - 0s 4ms/step - loss: 7.1850 - mae: 7.1850\n",
            "Epoch 47/100\n",
            "1/1 [==============================] - 0s 8ms/step - loss: 7.1794 - mae: 7.1794\n",
            "Epoch 48/100\n",
            "1/1 [==============================] - 0s 9ms/step - loss: 7.1738 - mae: 7.1738\n",
            "Epoch 49/100\n",
            "1/1 [==============================] - 0s 9ms/step - loss: 7.1681 - mae: 7.1681\n",
            "Epoch 50/100\n",
            "1/1 [==============================] - 0s 9ms/step - loss: 7.1625 - mae: 7.1625\n",
            "Epoch 51/100\n",
            "1/1 [==============================] - 0s 9ms/step - loss: 7.1569 - mae: 7.1569\n",
            "Epoch 52/100\n",
            "1/1 [==============================] - 0s 9ms/step - loss: 7.1512 - mae: 7.1512\n",
            "Epoch 53/100\n",
            "1/1 [==============================] - 0s 9ms/step - loss: 7.1456 - mae: 7.1456\n",
            "Epoch 54/100\n",
            "1/1 [==============================] - 0s 12ms/step - loss: 7.1400 - mae: 7.1400\n",
            "Epoch 55/100\n",
            "1/1 [==============================] - 0s 11ms/step - loss: 7.1344 - mae: 7.1344\n",
            "Epoch 56/100\n",
            "1/1 [==============================] - 0s 9ms/step - loss: 7.1287 - mae: 7.1287\n",
            "Epoch 57/100\n",
            "1/1 [==============================] - 0s 30ms/step - loss: 7.1231 - mae: 7.1231\n",
            "Epoch 58/100\n",
            "1/1 [==============================] - 0s 7ms/step - loss: 7.1175 - mae: 7.1175\n",
            "Epoch 59/100\n",
            "1/1 [==============================] - 0s 3ms/step - loss: 7.1119 - mae: 7.1119\n",
            "Epoch 60/100\n",
            "1/1 [==============================] - 0s 8ms/step - loss: 7.1063 - mae: 7.1063\n",
            "Epoch 61/100\n",
            "1/1 [==============================] - 0s 10ms/step - loss: 7.1006 - mae: 7.1006\n",
            "Epoch 62/100\n",
            "1/1 [==============================] - 0s 10ms/step - loss: 7.0950 - mae: 7.0950\n",
            "Epoch 63/100\n",
            "1/1 [==============================] - 0s 14ms/step - loss: 7.0894 - mae: 7.0894\n",
            "Epoch 64/100\n",
            "1/1 [==============================] - 0s 11ms/step - loss: 7.0838 - mae: 7.0838\n",
            "Epoch 65/100\n",
            "1/1 [==============================] - 0s 6ms/step - loss: 7.0781 - mae: 7.0781\n",
            "Epoch 66/100\n",
            "1/1 [==============================] - 0s 12ms/step - loss: 7.0725 - mae: 7.0725\n",
            "Epoch 67/100\n",
            "1/1 [==============================] - 0s 10ms/step - loss: 7.0669 - mae: 7.0669\n",
            "Epoch 68/100\n",
            "1/1 [==============================] - 0s 7ms/step - loss: 7.0613 - mae: 7.0613\n",
            "Epoch 69/100\n",
            "1/1 [==============================] - 0s 10ms/step - loss: 7.0556 - mae: 7.0556\n",
            "Epoch 70/100\n",
            "1/1 [==============================] - 0s 6ms/step - loss: 7.0500 - mae: 7.0500\n",
            "Epoch 71/100\n",
            "1/1 [==============================] - 0s 13ms/step - loss: 7.0444 - mae: 7.0444\n",
            "Epoch 72/100\n",
            "1/1 [==============================] - 0s 11ms/step - loss: 7.0388 - mae: 7.0388\n",
            "Epoch 73/100\n",
            "1/1 [==============================] - 0s 11ms/step - loss: 7.0331 - mae: 7.0331\n",
            "Epoch 74/100\n",
            "1/1 [==============================] - 0s 10ms/step - loss: 7.0275 - mae: 7.0275\n",
            "Epoch 75/100\n",
            "1/1 [==============================] - 0s 10ms/step - loss: 7.0219 - mae: 7.0219\n",
            "Epoch 76/100\n",
            "1/1 [==============================] - 0s 6ms/step - loss: 7.0163 - mae: 7.0163\n",
            "Epoch 77/100\n",
            "1/1 [==============================] - 0s 12ms/step - loss: 7.0106 - mae: 7.0106\n",
            "Epoch 78/100\n",
            "1/1 [==============================] - 0s 10ms/step - loss: 7.0050 - mae: 7.0050\n",
            "Epoch 79/100\n",
            "1/1 [==============================] - 0s 9ms/step - loss: 6.9994 - mae: 6.9994\n",
            "Epoch 80/100\n",
            "1/1 [==============================] - 0s 9ms/step - loss: 6.9938 - mae: 6.9938\n",
            "Epoch 81/100\n",
            "1/1 [==============================] - 0s 11ms/step - loss: 6.9881 - mae: 6.9881\n",
            "Epoch 82/100\n",
            "1/1 [==============================] - 0s 8ms/step - loss: 6.9825 - mae: 6.9825\n",
            "Epoch 83/100\n",
            "1/1 [==============================] - 0s 6ms/step - loss: 6.9769 - mae: 6.9769\n",
            "Epoch 84/100\n",
            "1/1 [==============================] - 0s 10ms/step - loss: 6.9713 - mae: 6.9713\n",
            "Epoch 85/100\n",
            "1/1 [==============================] - 0s 7ms/step - loss: 6.9656 - mae: 6.9656\n",
            "Epoch 86/100\n",
            "1/1 [==============================] - 0s 7ms/step - loss: 6.9600 - mae: 6.9600\n",
            "Epoch 87/100\n",
            "1/1 [==============================] - 0s 8ms/step - loss: 6.9544 - mae: 6.9544\n",
            "Epoch 88/100\n",
            "1/1 [==============================] - 0s 11ms/step - loss: 6.9488 - mae: 6.9488\n",
            "Epoch 89/100\n",
            "1/1 [==============================] - 0s 9ms/step - loss: 6.9431 - mae: 6.9431\n",
            "Epoch 90/100\n",
            "1/1 [==============================] - 0s 11ms/step - loss: 6.9375 - mae: 6.9375\n",
            "Epoch 91/100\n",
            "1/1 [==============================] - 0s 12ms/step - loss: 6.9319 - mae: 6.9319\n",
            "Epoch 92/100\n",
            "1/1 [==============================] - 0s 10ms/step - loss: 6.9263 - mae: 6.9263\n",
            "Epoch 93/100\n",
            "1/1 [==============================] - 0s 7ms/step - loss: 6.9206 - mae: 6.9206\n",
            "Epoch 94/100\n",
            "1/1 [==============================] - 0s 11ms/step - loss: 6.9150 - mae: 6.9150\n",
            "Epoch 95/100\n",
            "1/1 [==============================] - 0s 12ms/step - loss: 6.9094 - mae: 6.9094\n",
            "Epoch 96/100\n",
            "1/1 [==============================] - 0s 11ms/step - loss: 6.9038 - mae: 6.9038\n",
            "Epoch 97/100\n",
            "1/1 [==============================] - 0s 16ms/step - loss: 6.8981 - mae: 6.8981\n",
            "Epoch 98/100\n",
            "1/1 [==============================] - 0s 11ms/step - loss: 6.8925 - mae: 6.8925\n",
            "Epoch 99/100\n",
            "1/1 [==============================] - 0s 25ms/step - loss: 6.8869 - mae: 6.8869\n",
            "Epoch 100/100\n",
            "1/1 [==============================] - 0s 8ms/step - loss: 6.8813 - mae: 6.8813\n"
          ]
        },
        {
          "output_type": "execute_result",
          "data": {
            "text/plain": [
              "<keras.callbacks.History at 0x7f5f138a8b90>"
            ]
          },
          "metadata": {},
          "execution_count": 13
        }
      ]
    },
    {
      "cell_type": "code",
      "source": [
        "model.predict([17.0])"
      ],
      "metadata": {
        "colab": {
          "base_uri": "https://localhost:8080/"
        },
        "id": "kFXkC11OIcNY",
        "outputId": "6ecf4711-eed9-4c1f-9fcf-a422ac4647eb"
      },
      "execution_count": 14,
      "outputs": [
        {
          "output_type": "execute_result",
          "data": {
            "text/plain": [
              "array([[30.158512]], dtype=float32)"
            ]
          },
          "metadata": {},
          "execution_count": 14
        }
      ]
    },
    {
      "cell_type": "markdown",
      "source": [
        "# **Evaluating a model**"
      ],
      "metadata": {
        "id": "mX6fvD5WI-jJ"
      }
    },
    {
      "cell_type": "code",
      "source": [
        "#Make a bigger dataset\n",
        "X=np.arange(-100, 100, 4)\n",
        "X"
      ],
      "metadata": {
        "id": "XD7ixp88JBmF",
        "colab": {
          "base_uri": "https://localhost:8080/"
        },
        "outputId": "e11b20df-4ee6-45da-9352-b6e47d59ff15"
      },
      "execution_count": 15,
      "outputs": [
        {
          "output_type": "execute_result",
          "data": {
            "text/plain": [
              "array([-100,  -96,  -92,  -88,  -84,  -80,  -76,  -72,  -68,  -64,  -60,\n",
              "        -56,  -52,  -48,  -44,  -40,  -36,  -32,  -28,  -24,  -20,  -16,\n",
              "        -12,   -8,   -4,    0,    4,    8,   12,   16,   20,   24,   28,\n",
              "         32,   36,   40,   44,   48,   52,   56,   60,   64,   68,   72,\n",
              "         76,   80,   84,   88,   92,   96])"
            ]
          },
          "metadata": {},
          "execution_count": 15
        }
      ]
    },
    {
      "cell_type": "code",
      "source": [
        "#Make label for dataset\n",
        "y=np.arange(-90,100,4)\n",
        "y"
      ],
      "metadata": {
        "colab": {
          "base_uri": "https://localhost:8080/"
        },
        "id": "WqtsObVU13pt",
        "outputId": "42575af9-8b4f-43b3-ceca-26e25745cbbb"
      },
      "execution_count": 16,
      "outputs": [
        {
          "output_type": "execute_result",
          "data": {
            "text/plain": [
              "array([-90, -86, -82, -78, -74, -70, -66, -62, -58, -54, -50, -46, -42,\n",
              "       -38, -34, -30, -26, -22, -18, -14, -10,  -6,  -2,   2,   6,  10,\n",
              "        14,  18,  22,  26,  30,  34,  38,  42,  46,  50,  54,  58,  62,\n",
              "        66,  70,  74,  78,  82,  86,  90,  94,  98])"
            ]
          },
          "metadata": {},
          "execution_count": 16
        }
      ]
    },
    {
      "cell_type": "code",
      "source": [
        "y=X+10\n",
        "y"
      ],
      "metadata": {
        "colab": {
          "base_uri": "https://localhost:8080/"
        },
        "id": "h9skkZfp1_63",
        "outputId": "eb95e6ee-bff7-4143-e535-799e11d0b960"
      },
      "execution_count": 17,
      "outputs": [
        {
          "output_type": "execute_result",
          "data": {
            "text/plain": [
              "array([-90, -86, -82, -78, -74, -70, -66, -62, -58, -54, -50, -46, -42,\n",
              "       -38, -34, -30, -26, -22, -18, -14, -10,  -6,  -2,   2,   6,  10,\n",
              "        14,  18,  22,  26,  30,  34,  38,  42,  46,  50,  54,  58,  62,\n",
              "        66,  70,  74,  78,  82,  86,  90,  94,  98, 102, 106])"
            ]
          },
          "metadata": {},
          "execution_count": 17
        }
      ]
    },
    {
      "cell_type": "markdown",
      "source": [
        "# **Split data into Training/Test Set**"
      ],
      "metadata": {
        "id": "c6WsZbOE2mf5"
      }
    },
    {
      "cell_type": "markdown",
      "source": [
        "Validation Set: The model gets tuned on this data, which is typically 10-15% of the total data available "
      ],
      "metadata": {
        "id": "Nd6QwJsv25QX"
      }
    },
    {
      "cell_type": "code",
      "source": [
        "len(X)"
      ],
      "metadata": {
        "colab": {
          "base_uri": "https://localhost:8080/"
        },
        "id": "ThkVQiNi2hLc",
        "outputId": "0826d578-407b-41e7-c46f-05d21796e238"
      },
      "execution_count": 18,
      "outputs": [
        {
          "output_type": "execute_result",
          "data": {
            "text/plain": [
              "50"
            ]
          },
          "metadata": {},
          "execution_count": 18
        }
      ]
    },
    {
      "cell_type": "code",
      "source": [
        "X_train=X[:40]\n",
        "y_train=y[:40]\n",
        "\n",
        "X_test=X[40:]\n",
        "y_test=y[40:]\n",
        "\n",
        "len(X_train), len(X_test)"
      ],
      "metadata": {
        "colab": {
          "base_uri": "https://localhost:8080/"
        },
        "id": "MkEWVB1Z3Uki",
        "outputId": "f083ac17-ead6-4880-ebb1-4263086c1400"
      },
      "execution_count": 19,
      "outputs": [
        {
          "output_type": "execute_result",
          "data": {
            "text/plain": [
              "(40, 10)"
            ]
          },
          "metadata": {},
          "execution_count": 19
        }
      ]
    },
    {
      "cell_type": "markdown",
      "source": [
        "# **Visualizing The Data**"
      ],
      "metadata": {
        "id": "CyCck1pZ311B"
      }
    },
    {
      "cell_type": "code",
      "source": [
        "plt.figure(figsize=(10,7))\n",
        "plt .scatter(X_train, y_train,c=\"b\",label=\"Training Data\")\n",
        "plt .scatter(X_test, y_test,c=\"g\",label=\"Training Data\")\n",
        "plt.legend()"
      ],
      "metadata": {
        "colab": {
          "base_uri": "https://localhost:8080/",
          "height": 446
        },
        "id": "xFPRoWFz351u",
        "outputId": "fb98ebf9-c6d9-479d-8c50-f9d37f3c7325"
      },
      "execution_count": 20,
      "outputs": [
        {
          "output_type": "execute_result",
          "data": {
            "text/plain": [
              "<matplotlib.legend.Legend at 0x7f5f12053f90>"
            ]
          },
          "metadata": {},
          "execution_count": 20
        },
        {
          "output_type": "display_data",
          "data": {
            "image/png": "[encoded data removed]",
            "text/plain": [
              "<Figure size 720x504 with 1 Axes>"
            ]
          },
          "metadata": {
            "needs_background": "light"
          }
        }
      ]
    },
    {
      "cell_type": "code",
      "source": [
        "tf.random.set_seed(42)\n",
        "\n",
        "#Create a model \n",
        "model=tf.keras.Sequential([\n",
        "                           tf.keras.layers.Dense(1,input_shape=[1])\n",
        "])\n",
        "\n",
        "#Compile model\n",
        "model.compile(loss=tf.keras.losses.mae,\n",
        "              optimizer=tf.keras.optimizers.SGD(),\n",
        "              metrics=[\"mae\"])\n",
        "\n"
      ],
      "metadata": {
        "id": "5g3_GJkR4_-9"
      },
      "execution_count": 21,
      "outputs": []
    },
    {
      "cell_type": "code",
      "source": [
        "model.summary()"
      ],
      "metadata": {
        "colab": {
          "base_uri": "https://localhost:8080/"
        },
        "id": "JfDUPdBD6SkX",
        "outputId": "fec10979-df64-4b4b-a447-cc39c4e63388"
      },
      "execution_count": 22,
      "outputs": [
        {
          "output_type": "stream",
          "name": "stdout",
          "text": [
            "Model: \"sequential_2\"\n",
            "_________________________________________________________________\n",
            " Layer (type)                Output Shape              Param #   \n",
            "=================================================================\n",
            " dense_2 (Dense)             (None, 1)                 2         \n",
            "                                                                 \n",
            "=================================================================\n",
            "Total params: 2\n",
            "Trainable params: 2\n",
            "Non-trainable params: 0\n",
            "_________________________________________________________________\n"
          ]
        }
      ]
    },
    {
      "cell_type": "code",
      "source": [
        "#Fit the Model\n",
        "model.fit(X_train, y_train,epochs=100)"
      ],
      "metadata": {
        "colab": {
          "base_uri": "https://localhost:8080/"
        },
        "id": "VuaHSG9c50BU",
        "outputId": "ed61b6a7-ad70-4cdd-8d6b-ab9f517ae713"
      },
      "execution_count": 23,
      "outputs": [
        {
          "output_type": "stream",
          "name": "stdout",
          "text": [
            "Epoch 1/100\n",
            "2/2 [==============================] - 0s 6ms/step - loss: 15.9024 - mae: 15.9024\n",
            "Epoch 2/100\n",
            "2/2 [==============================] - 0s 7ms/step - loss: 11.2837 - mae: 11.2837\n",
            "Epoch 3/100\n",
            "2/2 [==============================] - 0s 4ms/step - loss: 11.1074 - mae: 11.1074\n",
            "Epoch 4/100\n",
            "2/2 [==============================] - 0s 5ms/step - loss: 9.2991 - mae: 9.2991\n",
            "Epoch 5/100\n",
            "2/2 [==============================] - 0s 6ms/step - loss: 10.1677 - mae: 10.1677\n",
            "Epoch 6/100\n",
            "2/2 [==============================] - 0s 6ms/step - loss: 9.4303 - mae: 9.4303\n",
            "Epoch 7/100\n",
            "2/2 [==============================] - 0s 6ms/step - loss: 8.5704 - mae: 8.5704\n",
            "Epoch 8/100\n",
            "2/2 [==============================] - 0s 5ms/step - loss: 9.0442 - mae: 9.0442\n",
            "Epoch 9/100\n",
            "2/2 [==============================] - 0s 6ms/step - loss: 18.7517 - mae: 18.7517\n",
            "Epoch 10/100\n",
            "2/2 [==============================] - 0s 5ms/step - loss: 10.1142 - mae: 10.1142\n",
            "Epoch 11/100\n",
            "2/2 [==============================] - 0s 6ms/step - loss: 8.3980 - mae: 8.3980\n",
            "Epoch 12/100\n",
            "2/2 [==============================] - 0s 5ms/step - loss: 10.6639 - mae: 10.6639\n",
            "Epoch 13/100\n",
            "2/2 [==============================] - 0s 5ms/step - loss: 9.7977 - mae: 9.7977\n",
            "Epoch 14/100\n",
            "2/2 [==============================] - 0s 6ms/step - loss: 16.0103 - mae: 16.0103\n",
            "Epoch 15/100\n",
            "2/2 [==============================] - 0s 6ms/step - loss: 11.4068 - mae: 11.4068\n",
            "Epoch 16/100\n",
            "2/2 [==============================] - 0s 6ms/step - loss: 8.5393 - mae: 8.5393\n",
            "Epoch 17/100\n",
            "2/2 [==============================] - 0s 6ms/step - loss: 13.6348 - mae: 13.6348\n",
            "Epoch 18/100\n",
            "2/2 [==============================] - 0s 8ms/step - loss: 11.4629 - mae: 11.4629\n",
            "Epoch 19/100\n",
            "2/2 [==============================] - 0s 7ms/step - loss: 17.9148 - mae: 17.9148\n",
            "Epoch 20/100\n",
            "2/2 [==============================] - 0s 7ms/step - loss: 15.0494 - mae: 15.0494\n",
            "Epoch 21/100\n",
            "2/2 [==============================] - 0s 8ms/step - loss: 11.0216 - mae: 11.0216\n",
            "Epoch 22/100\n",
            "2/2 [==============================] - 0s 6ms/step - loss: 8.1558 - mae: 8.1558\n",
            "Epoch 23/100\n",
            "2/2 [==============================] - 0s 6ms/step - loss: 9.5138 - mae: 9.5138\n",
            "Epoch 24/100\n",
            "2/2 [==============================] - 0s 8ms/step - loss: 7.6617 - mae: 7.6617\n",
            "Epoch 25/100\n",
            "2/2 [==============================] - 0s 11ms/step - loss: 13.1859 - mae: 13.1859\n",
            "Epoch 26/100\n",
            "2/2 [==============================] - 0s 6ms/step - loss: 16.4211 - mae: 16.4211\n",
            "Epoch 27/100\n",
            "2/2 [==============================] - 0s 5ms/step - loss: 13.1660 - mae: 13.1660\n",
            "Epoch 28/100\n",
            "2/2 [==============================] - 0s 4ms/step - loss: 14.2559 - mae: 14.2559\n",
            "Epoch 29/100\n",
            "2/2 [==============================] - 0s 7ms/step - loss: 10.0670 - mae: 10.0670\n",
            "Epoch 30/100\n",
            "2/2 [==============================] - 0s 7ms/step - loss: 16.3409 - mae: 16.3409\n",
            "Epoch 31/100\n",
            "2/2 [==============================] - 0s 7ms/step - loss: 23.6444 - mae: 23.6444\n",
            "Epoch 32/100\n",
            "2/2 [==============================] - 0s 5ms/step - loss: 7.6215 - mae: 7.6215\n",
            "Epoch 33/100\n",
            "2/2 [==============================] - 0s 6ms/step - loss: 9.3221 - mae: 9.3221\n",
            "Epoch 34/100\n",
            "2/2 [==============================] - 0s 4ms/step - loss: 13.7313 - mae: 13.7313\n",
            "Epoch 35/100\n",
            "2/2 [==============================] - 0s 6ms/step - loss: 11.1276 - mae: 11.1276\n",
            "Epoch 36/100\n",
            "2/2 [==============================] - 0s 7ms/step - loss: 13.3222 - mae: 13.3222\n",
            "Epoch 37/100\n",
            "2/2 [==============================] - 0s 7ms/step - loss: 9.4763 - mae: 9.4763\n",
            "Epoch 38/100\n",
            "2/2 [==============================] - 0s 8ms/step - loss: 10.1381 - mae: 10.1381\n",
            "Epoch 39/100\n",
            "2/2 [==============================] - 0s 3ms/step - loss: 10.1793 - mae: 10.1793\n",
            "Epoch 40/100\n",
            "2/2 [==============================] - 0s 5ms/step - loss: 10.9137 - mae: 10.9137\n",
            "Epoch 41/100\n",
            "2/2 [==============================] - 0s 5ms/step - loss: 7.9063 - mae: 7.9063\n",
            "Epoch 42/100\n",
            "2/2 [==============================] - 0s 3ms/step - loss: 10.0914 - mae: 10.0914\n",
            "Epoch 43/100\n",
            "2/2 [==============================] - 0s 4ms/step - loss: 8.7006 - mae: 8.7006\n",
            "Epoch 44/100\n",
            "2/2 [==============================] - 0s 6ms/step - loss: 12.2047 - mae: 12.2047\n",
            "Epoch 45/100\n",
            "2/2 [==============================] - 0s 7ms/step - loss: 13.7970 - mae: 13.7970\n",
            "Epoch 46/100\n",
            "2/2 [==============================] - 0s 6ms/step - loss: 8.4687 - mae: 8.4687\n",
            "Epoch 47/100\n",
            "2/2 [==============================] - 0s 8ms/step - loss: 9.1330 - mae: 9.1330\n",
            "Epoch 48/100\n",
            "2/2 [==============================] - 0s 6ms/step - loss: 10.6190 - mae: 10.6190\n",
            "Epoch 49/100\n",
            "2/2 [==============================] - 0s 7ms/step - loss: 7.7503 - mae: 7.7503\n",
            "Epoch 50/100\n",
            "2/2 [==============================] - 0s 4ms/step - loss: 9.5407 - mae: 9.5407\n",
            "Epoch 51/100\n",
            "2/2 [==============================] - 0s 4ms/step - loss: 9.1584 - mae: 9.1584\n",
            "Epoch 52/100\n",
            "2/2 [==============================] - 0s 26ms/step - loss: 16.3630 - mae: 16.3630\n",
            "Epoch 53/100\n",
            "2/2 [==============================] - 0s 7ms/step - loss: 14.1299 - mae: 14.1299\n",
            "Epoch 54/100\n",
            "2/2 [==============================] - 0s 9ms/step - loss: 21.1247 - mae: 21.1247\n",
            "Epoch 55/100\n",
            "2/2 [==============================] - 0s 13ms/step - loss: 16.3961 - mae: 16.3961\n",
            "Epoch 56/100\n",
            "2/2 [==============================] - 0s 12ms/step - loss: 9.9806 - mae: 9.9806\n",
            "Epoch 57/100\n",
            "2/2 [==============================] - 0s 6ms/step - loss: 9.9606 - mae: 9.9606\n",
            "Epoch 58/100\n",
            "2/2 [==============================] - 0s 6ms/step - loss: 9.2209 - mae: 9.2209\n",
            "Epoch 59/100\n",
            "2/2 [==============================] - 0s 7ms/step - loss: 8.4239 - mae: 8.4239\n",
            "Epoch 60/100\n",
            "2/2 [==============================] - 0s 5ms/step - loss: 9.4869 - mae: 9.4869\n",
            "Epoch 61/100\n",
            "2/2 [==============================] - 0s 15ms/step - loss: 11.4355 - mae: 11.4355\n",
            "Epoch 62/100\n",
            "2/2 [==============================] - 0s 5ms/step - loss: 11.6887 - mae: 11.6887\n",
            "Epoch 63/100\n",
            "2/2 [==============================] - 0s 13ms/step - loss: 7.0838 - mae: 7.0838\n",
            "Epoch 64/100\n",
            "2/2 [==============================] - 0s 5ms/step - loss: 16.9675 - mae: 16.9675\n",
            "Epoch 65/100\n",
            "2/2 [==============================] - 0s 22ms/step - loss: 12.4599 - mae: 12.4599\n",
            "Epoch 66/100\n",
            "2/2 [==============================] - 0s 15ms/step - loss: 13.0184 - mae: 13.0184\n",
            "Epoch 67/100\n",
            "2/2 [==============================] - 0s 6ms/step - loss: 8.0600 - mae: 8.0600\n",
            "Epoch 68/100\n",
            "2/2 [==============================] - 0s 10ms/step - loss: 10.1888 - mae: 10.1888\n",
            "Epoch 69/100\n",
            "2/2 [==============================] - 0s 4ms/step - loss: 12.3633 - mae: 12.3633\n",
            "Epoch 70/100\n",
            "2/2 [==============================] - 0s 4ms/step - loss: 9.0516 - mae: 9.0516\n",
            "Epoch 71/100\n",
            "2/2 [==============================] - 0s 6ms/step - loss: 10.0378 - mae: 10.0378\n",
            "Epoch 72/100\n",
            "2/2 [==============================] - 0s 10ms/step - loss: 10.0516 - mae: 10.0516\n",
            "Epoch 73/100\n",
            "2/2 [==============================] - 0s 6ms/step - loss: 12.6151 - mae: 12.6151\n",
            "Epoch 74/100\n",
            "2/2 [==============================] - 0s 3ms/step - loss: 10.3819 - mae: 10.3819\n",
            "Epoch 75/100\n",
            "2/2 [==============================] - 0s 9ms/step - loss: 9.7229 - mae: 9.7229\n",
            "Epoch 76/100\n",
            "2/2 [==============================] - 0s 4ms/step - loss: 11.2252 - mae: 11.2252\n",
            "Epoch 77/100\n",
            "2/2 [==============================] - 0s 6ms/step - loss: 8.3642 - mae: 8.3642\n",
            "Epoch 78/100\n",
            "2/2 [==============================] - 0s 3ms/step - loss: 9.1274 - mae: 9.1274\n",
            "Epoch 79/100\n",
            "2/2 [==============================] - 0s 11ms/step - loss: 19.5039 - mae: 19.5039\n",
            "Epoch 80/100\n",
            "2/2 [==============================] - 0s 3ms/step - loss: 14.8945 - mae: 14.8945\n",
            "Epoch 81/100\n",
            "2/2 [==============================] - 0s 5ms/step - loss: 9.0034 - mae: 9.0034\n",
            "Epoch 82/100\n",
            "2/2 [==============================] - 0s 12ms/step - loss: 13.0206 - mae: 13.0206\n",
            "Epoch 83/100\n",
            "2/2 [==============================] - 0s 15ms/step - loss: 7.9299 - mae: 7.9299\n",
            "Epoch 84/100\n",
            "2/2 [==============================] - 0s 3ms/step - loss: 7.6872 - mae: 7.6872\n",
            "Epoch 85/100\n",
            "2/2 [==============================] - 0s 8ms/step - loss: 10.0328 - mae: 10.0328\n",
            "Epoch 86/100\n",
            "2/2 [==============================] - 0s 6ms/step - loss: 9.2433 - mae: 9.2433\n",
            "Epoch 87/100\n",
            "2/2 [==============================] - 0s 5ms/step - loss: 12.0209 - mae: 12.0209\n",
            "Epoch 88/100\n",
            "2/2 [==============================] - 0s 5ms/step - loss: 10.6389 - mae: 10.6389\n",
            "Epoch 89/100\n",
            "2/2 [==============================] - 0s 10ms/step - loss: 7.2667 - mae: 7.2667\n",
            "Epoch 90/100\n",
            "2/2 [==============================] - 0s 15ms/step - loss: 12.7786 - mae: 12.7786\n",
            "Epoch 91/100\n",
            "2/2 [==============================] - 0s 7ms/step - loss: 7.3481 - mae: 7.3481\n",
            "Epoch 92/100\n",
            "2/2 [==============================] - 0s 13ms/step - loss: 7.7175 - mae: 7.7175\n",
            "Epoch 93/100\n",
            "2/2 [==============================] - 0s 6ms/step - loss: 7.1263 - mae: 7.1263\n",
            "Epoch 94/100\n",
            "2/2 [==============================] - 0s 11ms/step - loss: 12.6190 - mae: 12.6190\n",
            "Epoch 95/100\n",
            "2/2 [==============================] - 0s 6ms/step - loss: 10.0912 - mae: 10.0912\n",
            "Epoch 96/100\n",
            "2/2 [==============================] - 0s 8ms/step - loss: 9.3558 - mae: 9.3558\n",
            "Epoch 97/100\n",
            "2/2 [==============================] - 0s 8ms/step - loss: 12.6834 - mae: 12.6834\n",
            "Epoch 98/100\n",
            "2/2 [==============================] - 0s 7ms/step - loss: 8.6762 - mae: 8.6762\n",
            "Epoch 99/100\n",
            "2/2 [==============================] - 0s 16ms/step - loss: 9.4693 - mae: 9.4693\n",
            "Epoch 100/100\n",
            "2/2 [==============================] - 0s 7ms/step - loss: 8.7067 - mae: 8.7067\n"
          ]
        },
        {
          "output_type": "execute_result",
          "data": {
            "text/plain": [
              "<keras.callbacks.History at 0x7f5f1383b050>"
            ]
          },
          "metadata": {},
          "execution_count": 23
        }
      ]
    },
    {
      "cell_type": "code",
      "source": [
        "model.summary()"
      ],
      "metadata": {
        "colab": {
          "base_uri": "https://localhost:8080/"
        },
        "id": "e3R0_mPB6nfD",
        "outputId": "e320b9eb-ba3e-4514-e1ec-93d0b738b182"
      },
      "execution_count": 24,
      "outputs": [
        {
          "output_type": "stream",
          "name": "stdout",
          "text": [
            "Model: \"sequential_2\"\n",
            "_________________________________________________________________\n",
            " Layer (type)                Output Shape              Param #   \n",
            "=================================================================\n",
            " dense_2 (Dense)             (None, 1)                 2         \n",
            "                                                                 \n",
            "=================================================================\n",
            "Total params: 2\n",
            "Trainable params: 2\n",
            "Non-trainable params: 0\n",
            "_________________________________________________________________\n"
          ]
        }
      ]
    },
    {
      "cell_type": "code",
      "source": [
        "from tensorflow.keras.utils import plot_model\n",
        "\n",
        "plot_model(model,show_shapes=True)"
      ],
      "metadata": {
        "colab": {
          "base_uri": "https://localhost:8080/",
          "height": 201
        },
        "id": "T5RTiaNX6s8E",
        "outputId": "62ab2503-0389-450e-87ca-5ae2aad00bc8"
      },
      "execution_count": 25,
      "outputs": [
        {
          "output_type": "execute_result",
          "data": {
            "image/png": "[encoded data removed]",
            "text/plain": [
              "<IPython.core.display.Image object>"
            ]
          },
          "metadata": {},
          "execution_count": 25
        }
      ]
    },
    {
      "cell_type": "code",
      "source": [
        "#Make Predictions\n",
        "y_preds=model.predict(X_test)"
      ],
      "metadata": {
        "id": "CR9GkcK87LDU"
      },
      "execution_count": 26,
      "outputs": []
    },
    {
      "cell_type": "code",
      "source": [
        "y_preds"
      ],
      "metadata": {
        "colab": {
          "base_uri": "https://localhost:8080/"
        },
        "id": "UwxS-P7N7TJa",
        "outputId": "e8e71c34-6b5d-4cd1-809b-42afd777e5dc"
      },
      "execution_count": 27,
      "outputs": [
        {
          "output_type": "execute_result",
          "data": {
            "text/plain": [
              "array([[53.57109 ],\n",
              "       [57.05633 ],\n",
              "       [60.541573],\n",
              "       [64.02681 ],\n",
              "       [67.512054],\n",
              "       [70.99729 ],\n",
              "       [74.48254 ],\n",
              "       [77.96777 ],\n",
              "       [81.45301 ],\n",
              "       [84.938255]], dtype=float32)"
            ]
          },
          "metadata": {},
          "execution_count": 27
        }
      ]
    },
    {
      "cell_type": "code",
      "source": [
        "def plot_prediction(train_data=X_train, train_labels=y_train,\n",
        "                    test_data=X_test,test_labels=y_test,\n",
        "                    predictions=y_preds):\n",
        "  plt.figure(figsize=(10,7))\n",
        "\n",
        "  plt .scatter(train_data, train_labels,c=\"b\",label=\"Training Data\")\n",
        "  plt .scatter(test_data, test_labels,c=\"g\",label=\"Training Data\")\n",
        "  plt .scatter(test_data,predictions,c=\"r\",label=\"Predictions\")\n",
        "\n",
        "  plt.legend()\n"
      ],
      "metadata": {
        "id": "dh5RfGMW7kkn"
      },
      "execution_count": 28,
      "outputs": []
    },
    {
      "cell_type": "code",
      "source": [
        "plot_prediction(train_data=X_train, train_labels=y_train,\n",
        "                    test_data=X_test,test_labels=y_test,\n",
        "                    predictions=y_preds)"
      ],
      "metadata": {
        "colab": {
          "base_uri": "https://localhost:8080/",
          "height": 428
        },
        "id": "E7W9mOeg9X1r",
        "outputId": "cf236ba6-33dd-4198-f3c8-f7eab867a99d"
      },
      "execution_count": 29,
      "outputs": [
        {
          "output_type": "display_data",
          "data": {
            "image/png": "[encoded data removed]",
            "text/plain": [
              "<Figure size 720x504 with 1 Axes>"
            ]
          },
          "metadata": {
            "needs_background": "light"
          }
        }
      ]
    },
    {
      "cell_type": "markdown",
      "source": [
        "# **Evalutaing Predictions**"
      ],
      "metadata": {
        "id": "Z7sNA856-pRg"
      }
    },
    {
      "cell_type": "code",
      "source": [
        "model.evaluate(X_test, y_test)"
      ],
      "metadata": {
        "colab": {
          "base_uri": "https://localhost:8080/"
        },
        "id": "XAXWVh6F-sbA",
        "outputId": "5f510850-cd6a-464b-c176-3f52a5f81e63"
      },
      "execution_count": 30,
      "outputs": [
        {
          "output_type": "stream",
          "name": "stdout",
          "text": [
            "1/1 [==============================] - 0s 187ms/step - loss: 18.7453 - mae: 18.7453\n"
          ]
        },
        {
          "output_type": "execute_result",
          "data": {
            "text/plain": [
              "[18.74532699584961, 18.74532699584961]"
            ]
          },
          "metadata": {},
          "execution_count": 30
        }
      ]
    },
    {
      "cell_type": "code",
      "source": [
        "#Calculate the mean absolute error\n",
        "mae=tf.metrics.mean_absolute_error(y_true=y_test,y_pred=y_preds)\n",
        "mae"
      ],
      "metadata": {
        "colab": {
          "base_uri": "https://localhost:8080/"
        },
        "id": "5UFL9xdn_Kaw",
        "outputId": "eff42578-7317-4ec3-8f55-72be69d7873b"
      },
      "execution_count": 31,
      "outputs": [
        {
          "output_type": "execute_result",
          "data": {
            "text/plain": [
              "<tf.Tensor: shape=(10,), dtype=float32, numpy=\n",
              "array([34.42891 , 30.943668, 27.45843 , 23.97319 , 20.487946, 17.202168,\n",
              "       14.510478, 12.419336, 11.018796, 10.212349], dtype=float32)>"
            ]
          },
          "metadata": {},
          "execution_count": 31
        }
      ]
    },
    {
      "cell_type": "code",
      "source": [
        "y_test.shape"
      ],
      "metadata": {
        "colab": {
          "base_uri": "https://localhost:8080/"
        },
        "id": "5B-R773t_iUi",
        "outputId": "b963a480-7005-4d9b-a490-c7b7892d6afe"
      },
      "execution_count": 32,
      "outputs": [
        {
          "output_type": "execute_result",
          "data": {
            "text/plain": [
              "(10,)"
            ]
          },
          "metadata": {},
          "execution_count": 32
        }
      ]
    },
    {
      "cell_type": "code",
      "source": [
        "y_preds.shape"
      ],
      "metadata": {
        "colab": {
          "base_uri": "https://localhost:8080/"
        },
        "id": "VVUnJzsG_nW6",
        "outputId": "e8a7def5-b9da-484b-8d56-d95300328615"
      },
      "execution_count": 33,
      "outputs": [
        {
          "output_type": "execute_result",
          "data": {
            "text/plain": [
              "(10, 1)"
            ]
          },
          "metadata": {},
          "execution_count": 33
        }
      ]
    },
    {
      "cell_type": "code",
      "source": [
        "mae=tf.metrics.mean_absolute_error(y_true=y_test,y_pred=y_preds.squeeze())\n",
        "mae"
      ],
      "metadata": {
        "colab": {
          "base_uri": "https://localhost:8080/"
        },
        "id": "hUxaZMIQALBh",
        "outputId": "fc1ea357-8c36-48b1-ce68-5283813a90f2"
      },
      "execution_count": 34,
      "outputs": [
        {
          "output_type": "execute_result",
          "data": {
            "text/plain": [
              "<tf.Tensor: shape=(), dtype=float32, numpy=18.745327>"
            ]
          },
          "metadata": {},
          "execution_count": 34
        }
      ]
    },
    {
      "cell_type": "code",
      "source": [
        "#Calculate MSE Error\n",
        "mse=tf.metrics.mean_absolute_error(y_true=y_test,y_pred=y_preds.squeeze())\n",
        "mse\n"
      ],
      "metadata": {
        "colab": {
          "base_uri": "https://localhost:8080/"
        },
        "id": "TFtNTpIUArKi",
        "outputId": "5a364256-cd69-4123-8a05-98abed214312"
      },
      "execution_count": 35,
      "outputs": [
        {
          "output_type": "execute_result",
          "data": {
            "text/plain": [
              "<tf.Tensor: shape=(), dtype=float32, numpy=18.745327>"
            ]
          },
          "metadata": {},
          "execution_count": 35
        }
      ]
    },
    {
      "cell_type": "markdown",
      "source": [
        "# **Impovement of the Model**"
      ],
      "metadata": {
        "id": "-jwGdsasBb7A"
      }
    },
    {
      "cell_type": "markdown",
      "source": [
        "Build Model 1"
      ],
      "metadata": {
        "id": "5T7TeU5SCdpM"
      }
    },
    {
      "cell_type": "code",
      "source": [
        "tf.random.set_seed(42)\n",
        "\n",
        "#Create a model \n",
        "model_1=tf.keras.Sequential([\n",
        "                           tf.keras.layers.Dense(1,input_shape=[1])\n",
        "])\n",
        "\n",
        "#Compile model\n",
        "model_1.compile(loss=tf.keras.losses.mae,\n",
        "              optimizer=tf.keras.optimizers.SGD(),\n",
        "              metrics=[\"mae\"])\n",
        "\n",
        "model_1.fit(tf.expand_dims(X_train,axis=-1),y_train,epochs=100)"
      ],
      "metadata": {
        "colab": {
          "base_uri": "https://localhost:8080/"
        },
        "id": "EUTPzbq-BlKK",
        "outputId": "1a4b9316-dbb4-4b48-d5e2-b4a2de46468c"
      },
      "execution_count": 36,
      "outputs": [
        {
          "output_type": "stream",
          "name": "stdout",
          "text": [
            "Epoch 1/100\n",
            "2/2 [==============================] - 1s 5ms/step - loss: 15.9024 - mae: 15.9024\n",
            "Epoch 2/100\n",
            "2/2 [==============================] - 0s 4ms/step - loss: 11.2837 - mae: 11.2837\n",
            "Epoch 3/100\n",
            "2/2 [==============================] - 0s 4ms/step - loss: 11.1074 - mae: 11.1074\n",
            "Epoch 4/100\n",
            "2/2 [==============================] - 0s 4ms/step - loss: 9.2991 - mae: 9.2991\n",
            "Epoch 5/100\n",
            "2/2 [==============================] - 0s 12ms/step - loss: 10.1677 - mae: 10.1677\n",
            "Epoch 6/100\n",
            "2/2 [==============================] - 0s 6ms/step - loss: 9.4303 - mae: 9.4303\n",
            "Epoch 7/100\n",
            "2/2 [==============================] - 0s 5ms/step - loss: 8.5704 - mae: 8.5704\n",
            "Epoch 8/100\n",
            "2/2 [==============================] - 0s 3ms/step - loss: 9.0442 - mae: 9.0442\n",
            "Epoch 9/100\n",
            "2/2 [==============================] - 0s 3ms/step - loss: 18.7517 - mae: 18.7517\n",
            "Epoch 10/100\n",
            "2/2 [==============================] - 0s 7ms/step - loss: 10.1142 - mae: 10.1142\n",
            "Epoch 11/100\n",
            "2/2 [==============================] - 0s 4ms/step - loss: 8.3980 - mae: 8.3980\n",
            "Epoch 12/100\n",
            "2/2 [==============================] - 0s 13ms/step - loss: 10.6639 - mae: 10.6639\n",
            "Epoch 13/100\n",
            "2/2 [==============================] - 0s 4ms/step - loss: 9.7977 - mae: 9.7977\n",
            "Epoch 14/100\n",
            "2/2 [==============================] - 0s 11ms/step - loss: 16.0103 - mae: 16.0103\n",
            "Epoch 15/100\n",
            "2/2 [==============================] - 0s 7ms/step - loss: 11.4068 - mae: 11.4068\n",
            "Epoch 16/100\n",
            "2/2 [==============================] - 0s 6ms/step - loss: 8.5393 - mae: 8.5393\n",
            "Epoch 17/100\n",
            "2/2 [==============================] - 0s 3ms/step - loss: 13.6348 - mae: 13.6348\n",
            "Epoch 18/100\n",
            "2/2 [==============================] - 0s 5ms/step - loss: 11.4629 - mae: 11.4629\n",
            "Epoch 19/100\n",
            "2/2 [==============================] - 0s 6ms/step - loss: 17.9148 - mae: 17.9148\n",
            "Epoch 20/100\n",
            "2/2 [==============================] - 0s 10ms/step - loss: 15.0494 - mae: 15.0494\n",
            "Epoch 21/100\n",
            "2/2 [==============================] - 0s 3ms/step - loss: 11.0216 - mae: 11.0216\n",
            "Epoch 22/100\n",
            "2/2 [==============================] - 0s 8ms/step - loss: 8.1558 - mae: 8.1558\n",
            "Epoch 23/100\n",
            "2/2 [==============================] - 0s 7ms/step - loss: 9.5138 - mae: 9.5138\n",
            "Epoch 24/100\n",
            "2/2 [==============================] - 0s 6ms/step - loss: 7.6617 - mae: 7.6617\n",
            "Epoch 25/100\n",
            "2/2 [==============================] - 0s 6ms/step - loss: 13.1859 - mae: 13.1859\n",
            "Epoch 26/100\n",
            "2/2 [==============================] - 0s 4ms/step - loss: 16.4211 - mae: 16.4211\n",
            "Epoch 27/100\n",
            "2/2 [==============================] - 0s 15ms/step - loss: 13.1660 - mae: 13.1660\n",
            "Epoch 28/100\n",
            "2/2 [==============================] - 0s 3ms/step - loss: 14.2559 - mae: 14.2559\n",
            "Epoch 29/100\n",
            "2/2 [==============================] - 0s 26ms/step - loss: 10.0670 - mae: 10.0670\n",
            "Epoch 30/100\n",
            "2/2 [==============================] - 0s 6ms/step - loss: 16.3409 - mae: 16.3409\n",
            "Epoch 31/100\n",
            "2/2 [==============================] - 0s 4ms/step - loss: 23.6444 - mae: 23.6444\n",
            "Epoch 32/100\n",
            "2/2 [==============================] - 0s 8ms/step - loss: 7.6215 - mae: 7.6215\n",
            "Epoch 33/100\n",
            "2/2 [==============================] - 0s 20ms/step - loss: 9.3221 - mae: 9.3221\n",
            "Epoch 34/100\n",
            "2/2 [==============================] - 0s 15ms/step - loss: 13.7313 - mae: 13.7313\n",
            "Epoch 35/100\n",
            "2/2 [==============================] - 0s 7ms/step - loss: 11.1276 - mae: 11.1276\n",
            "Epoch 36/100\n",
            "2/2 [==============================] - 0s 7ms/step - loss: 13.3222 - mae: 13.3222\n",
            "Epoch 37/100\n",
            "2/2 [==============================] - 0s 7ms/step - loss: 9.4763 - mae: 9.4763\n",
            "Epoch 38/100\n",
            "2/2 [==============================] - 0s 6ms/step - loss: 10.1381 - mae: 10.1381\n",
            "Epoch 39/100\n",
            "2/2 [==============================] - 0s 6ms/step - loss: 10.1793 - mae: 10.1793\n",
            "Epoch 40/100\n",
            "2/2 [==============================] - 0s 6ms/step - loss: 10.9137 - mae: 10.9137\n",
            "Epoch 41/100\n",
            "2/2 [==============================] - 0s 5ms/step - loss: 7.9063 - mae: 7.9063\n",
            "Epoch 42/100\n",
            "2/2 [==============================] - 0s 5ms/step - loss: 10.0914 - mae: 10.0914\n",
            "Epoch 43/100\n",
            "2/2 [==============================] - 0s 7ms/step - loss: 8.7006 - mae: 8.7006\n",
            "Epoch 44/100\n",
            "2/2 [==============================] - 0s 2ms/step - loss: 12.2047 - mae: 12.2047\n",
            "Epoch 45/100\n",
            "2/2 [==============================] - 0s 5ms/step - loss: 13.7970 - mae: 13.7970\n",
            "Epoch 46/100\n",
            "2/2 [==============================] - 0s 8ms/step - loss: 8.4687 - mae: 8.4687\n",
            "Epoch 47/100\n",
            "2/2 [==============================] - 0s 8ms/step - loss: 9.1330 - mae: 9.1330\n",
            "Epoch 48/100\n",
            "2/2 [==============================] - 0s 3ms/step - loss: 10.6190 - mae: 10.6190\n",
            "Epoch 49/100\n",
            "2/2 [==============================] - 0s 21ms/step - loss: 7.7503 - mae: 7.7503\n",
            "Epoch 50/100\n",
            "2/2 [==============================] - 0s 5ms/step - loss: 9.5407 - mae: 9.5407\n",
            "Epoch 51/100\n",
            "2/2 [==============================] - 0s 13ms/step - loss: 9.1584 - mae: 9.1584\n",
            "Epoch 52/100\n",
            "2/2 [==============================] - 0s 3ms/step - loss: 16.3630 - mae: 16.3630\n",
            "Epoch 53/100\n",
            "2/2 [==============================] - 0s 12ms/step - loss: 14.1299 - mae: 14.1299\n",
            "Epoch 54/100\n",
            "2/2 [==============================] - 0s 16ms/step - loss: 21.1247 - mae: 21.1247\n",
            "Epoch 55/100\n",
            "2/2 [==============================] - 0s 8ms/step - loss: 16.3961 - mae: 16.3961\n",
            "Epoch 56/100\n",
            "2/2 [==============================] - 0s 2ms/step - loss: 9.9806 - mae: 9.9806\n",
            "Epoch 57/100\n",
            "2/2 [==============================] - 0s 15ms/step - loss: 9.9606 - mae: 9.9606\n",
            "Epoch 58/100\n",
            "2/2 [==============================] - 0s 8ms/step - loss: 9.2209 - mae: 9.2209\n",
            "Epoch 59/100\n",
            "2/2 [==============================] - 0s 9ms/step - loss: 8.4239 - mae: 8.4239\n",
            "Epoch 60/100\n",
            "2/2 [==============================] - 0s 23ms/step - loss: 9.4869 - mae: 9.4869\n",
            "Epoch 61/100\n",
            "2/2 [==============================] - 0s 11ms/step - loss: 11.4355 - mae: 11.4355\n",
            "Epoch 62/100\n",
            "2/2 [==============================] - 0s 8ms/step - loss: 11.6887 - mae: 11.6887\n",
            "Epoch 63/100\n",
            "2/2 [==============================] - 0s 7ms/step - loss: 7.0838 - mae: 7.0838\n",
            "Epoch 64/100\n",
            "2/2 [==============================] - 0s 7ms/step - loss: 16.9675 - mae: 16.9675\n",
            "Epoch 65/100\n",
            "2/2 [==============================] - 0s 11ms/step - loss: 12.4599 - mae: 12.4599\n",
            "Epoch 66/100\n",
            "2/2 [==============================] - 0s 5ms/step - loss: 13.0184 - mae: 13.0184\n",
            "Epoch 67/100\n",
            "2/2 [==============================] - 0s 8ms/step - loss: 8.0600 - mae: 8.0600\n",
            "Epoch 68/100\n",
            "2/2 [==============================] - 0s 8ms/step - loss: 10.1888 - mae: 10.1888\n",
            "Epoch 69/100\n",
            "2/2 [==============================] - 0s 6ms/step - loss: 12.3633 - mae: 12.3633\n",
            "Epoch 70/100\n",
            "2/2 [==============================] - 0s 8ms/step - loss: 9.0516 - mae: 9.0516\n",
            "Epoch 71/100\n",
            "2/2 [==============================] - 0s 10ms/step - loss: 10.0378 - mae: 10.0378\n",
            "Epoch 72/100\n",
            "2/2 [==============================] - 0s 14ms/step - loss: 10.0516 - mae: 10.0516\n",
            "Epoch 73/100\n",
            "2/2 [==============================] - 0s 9ms/step - loss: 12.6151 - mae: 12.6151\n",
            "Epoch 74/100\n",
            "2/2 [==============================] - 0s 9ms/step - loss: 10.3819 - mae: 10.3819\n",
            "Epoch 75/100\n",
            "2/2 [==============================] - 0s 3ms/step - loss: 9.7229 - mae: 9.7229\n",
            "Epoch 76/100\n",
            "2/2 [==============================] - 0s 8ms/step - loss: 11.2252 - mae: 11.2252\n",
            "Epoch 77/100\n",
            "2/2 [==============================] - 0s 5ms/step - loss: 8.3642 - mae: 8.3642\n",
            "Epoch 78/100\n",
            "2/2 [==============================] - 0s 10ms/step - loss: 9.1274 - mae: 9.1274\n",
            "Epoch 79/100\n",
            "2/2 [==============================] - 0s 7ms/step - loss: 19.5039 - mae: 19.5039\n",
            "Epoch 80/100\n",
            "2/2 [==============================] - 0s 3ms/step - loss: 14.8945 - mae: 14.8945\n",
            "Epoch 81/100\n",
            "2/2 [==============================] - 0s 3ms/step - loss: 9.0034 - mae: 9.0034\n",
            "Epoch 82/100\n",
            "2/2 [==============================] - 0s 4ms/step - loss: 13.0206 - mae: 13.0206\n",
            "Epoch 83/100\n",
            "2/2 [==============================] - 0s 17ms/step - loss: 7.9299 - mae: 7.9299\n",
            "Epoch 84/100\n",
            "2/2 [==============================] - 0s 3ms/step - loss: 7.6872 - mae: 7.6872\n",
            "Epoch 85/100\n",
            "2/2 [==============================] - 0s 10ms/step - loss: 10.0328 - mae: 10.0328\n",
            "Epoch 86/100\n",
            "2/2 [==============================] - 0s 3ms/step - loss: 9.2433 - mae: 9.2433\n",
            "Epoch 87/100\n",
            "2/2 [==============================] - 0s 8ms/step - loss: 12.0209 - mae: 12.0209\n",
            "Epoch 88/100\n",
            "2/2 [==============================] - 0s 10ms/step - loss: 10.6389 - mae: 10.6389\n",
            "Epoch 89/100\n",
            "2/2 [==============================] - 0s 27ms/step - loss: 7.2667 - mae: 7.2667\n",
            "Epoch 90/100\n",
            "2/2 [==============================] - 0s 15ms/step - loss: 12.7786 - mae: 12.7786\n",
            "Epoch 91/100\n",
            "2/2 [==============================] - 0s 10ms/step - loss: 7.3481 - mae: 7.3481\n",
            "Epoch 92/100\n",
            "2/2 [==============================] - 0s 4ms/step - loss: 7.7175 - mae: 7.7175\n",
            "Epoch 93/100\n",
            "2/2 [==============================] - 0s 7ms/step - loss: 7.1263 - mae: 7.1263\n",
            "Epoch 94/100\n",
            "2/2 [==============================] - 0s 13ms/step - loss: 12.6190 - mae: 12.6190\n",
            "Epoch 95/100\n",
            "2/2 [==============================] - 0s 14ms/step - loss: 10.0912 - mae: 10.0912\n",
            "Epoch 96/100\n",
            "2/2 [==============================] - 0s 13ms/step - loss: 9.3558 - mae: 9.3558\n",
            "Epoch 97/100\n",
            "2/2 [==============================] - 0s 6ms/step - loss: 12.6834 - mae: 12.6834\n",
            "Epoch 98/100\n",
            "2/2 [==============================] - 0s 6ms/step - loss: 8.6762 - mae: 8.6762\n",
            "Epoch 99/100\n",
            "2/2 [==============================] - 0s 10ms/step - loss: 9.4693 - mae: 9.4693\n",
            "Epoch 100/100\n",
            "2/2 [==============================] - 0s 4ms/step - loss: 8.7067 - mae: 8.7067\n"
          ]
        },
        {
          "output_type": "execute_result",
          "data": {
            "text/plain": [
              "<keras.callbacks.History at 0x7f5f907e5650>"
            ]
          },
          "metadata": {},
          "execution_count": 36
        }
      ]
    },
    {
      "cell_type": "code",
      "source": [
        "#this is a Y prediction for model 1\n",
        "y_preds_1=model_1.predict(X_test)"
      ],
      "metadata": {
        "id": "_pCYoBNrCnr6"
      },
      "execution_count": 37,
      "outputs": []
    },
    {
      "cell_type": "code",
      "source": [
        "plot_prediction(predictions=y_preds_1)"
      ],
      "metadata": {
        "colab": {
          "base_uri": "https://localhost:8080/",
          "height": 428
        },
        "id": "TIP3LTaiCz0f",
        "outputId": "bf286d84-e084-462d-fcc3-936c2523f928"
      },
      "execution_count": 38,
      "outputs": [
        {
          "output_type": "display_data",
          "data": {
            "image/png": "[encoded data removed]",
            "text/plain": [
              "<Figure size 720x504 with 1 Axes>"
            ]
          },
          "metadata": {
            "needs_background": "light"
          }
        }
      ]
    },
    {
      "cell_type": "code",
      "source": [
        "mae1=tf.metrics.mean_absolute_error(y_true=y_test,y_pred=y_preds_1.squeeze())\n",
        "mse1=tf.metrics.mean_absolute_error(y_true=y_test,y_pred=y_preds_1.squeeze())\n",
        "mae1,mse1\n"
      ],
      "metadata": {
        "colab": {
          "base_uri": "https://localhost:8080/"
        },
        "id": "Pjj5gUjmCJsE",
        "outputId": "3919555b-1b9d-44b0-c1b2-00fdf0e4e7e8"
      },
      "execution_count": 39,
      "outputs": [
        {
          "output_type": "execute_result",
          "data": {
            "text/plain": [
              "(<tf.Tensor: shape=(), dtype=float32, numpy=18.745327>,\n",
              " <tf.Tensor: shape=(), dtype=float32, numpy=18.745327>)"
            ]
          },
          "metadata": {},
          "execution_count": 39
        }
      ]
    },
    {
      "cell_type": "markdown",
      "source": [
        "Bild model 2"
      ],
      "metadata": {
        "id": "gw5QLfNaDQWF"
      }
    },
    {
      "cell_type": "code",
      "source": [
        "tf.random.set_seed(42)\n",
        "\n",
        "#Create a model \n",
        "model_2=tf.keras.Sequential([\n",
        "                           tf.keras.layers.Dense(1,input_shape=[1]),\n",
        "                           tf.keras.layers.Dense(1)\n",
        "])\n",
        "\n",
        "#Compile model\n",
        "model_2.compile(loss=tf.keras.losses.mae,\n",
        "              optimizer=tf.keras.optimizers.SGD(),\n",
        "              metrics=[\"mae\"])\n",
        "\n",
        "model_2.fit(tf.expand_dims(X_train,axis=-1),y_train,epochs=100)"
      ],
      "metadata": {
        "id": "ZIVwtywODU9B",
        "colab": {
          "base_uri": "https://localhost:8080/"
        },
        "outputId": "aa02f9a4-e399-4ce7-d78a-f12e425efaa5"
      },
      "execution_count": 40,
      "outputs": [
        {
          "output_type": "stream",
          "name": "stdout",
          "text": [
            "Epoch 1/100\n",
            "2/2 [==============================] - 0s 6ms/step - loss: 22.6625 - mae: 22.6625\n",
            "Epoch 2/100\n",
            "2/2 [==============================] - 0s 5ms/step - loss: 16.9439 - mae: 16.9439\n",
            "Epoch 3/100\n",
            "2/2 [==============================] - 0s 5ms/step - loss: 13.8059 - mae: 13.8059\n",
            "Epoch 4/100\n",
            "2/2 [==============================] - 0s 4ms/step - loss: 17.4504 - mae: 17.4504\n",
            "Epoch 5/100\n",
            "2/2 [==============================] - 0s 12ms/step - loss: 12.0637 - mae: 12.0637\n",
            "Epoch 6/100\n",
            "2/2 [==============================] - 0s 4ms/step - loss: 9.8335 - mae: 9.8335\n",
            "Epoch 7/100\n",
            "2/2 [==============================] - 0s 5ms/step - loss: 10.7023 - mae: 10.7023\n",
            "Epoch 8/100\n",
            "2/2 [==============================] - 0s 3ms/step - loss: 10.8713 - mae: 10.8713\n",
            "Epoch 9/100\n",
            "2/2 [==============================] - 0s 4ms/step - loss: 38.0435 - mae: 38.0435\n",
            "Epoch 10/100\n",
            "2/2 [==============================] - 0s 5ms/step - loss: 25.6226 - mae: 25.6226\n",
            "Epoch 11/100\n",
            "2/2 [==============================] - 0s 4ms/step - loss: 10.2375 - mae: 10.2375\n",
            "Epoch 12/100\n",
            "2/2 [==============================] - 0s 7ms/step - loss: 25.1960 - mae: 25.1960\n",
            "Epoch 13/100\n",
            "2/2 [==============================] - 0s 6ms/step - loss: 17.0177 - mae: 17.0177\n",
            "Epoch 14/100\n",
            "2/2 [==============================] - 0s 7ms/step - loss: 25.9747 - mae: 25.9747\n",
            "Epoch 15/100\n",
            "2/2 [==============================] - 0s 6ms/step - loss: 18.0366 - mae: 18.0366\n",
            "Epoch 16/100\n",
            "2/2 [==============================] - 0s 4ms/step - loss: 7.3513 - mae: 7.3513\n",
            "Epoch 17/100\n",
            "2/2 [==============================] - 0s 3ms/step - loss: 10.8516 - mae: 10.8516\n",
            "Epoch 18/100\n",
            "2/2 [==============================] - 0s 3ms/step - loss: 19.5119 - mae: 19.5119\n",
            "Epoch 19/100\n",
            "2/2 [==============================] - 0s 3ms/step - loss: 10.3378 - mae: 10.3378\n",
            "Epoch 20/100\n",
            "2/2 [==============================] - 0s 3ms/step - loss: 17.6840 - mae: 17.6840\n",
            "Epoch 21/100\n",
            "2/2 [==============================] - 0s 3ms/step - loss: 15.8826 - mae: 15.8826\n",
            "Epoch 22/100\n",
            "2/2 [==============================] - 0s 2ms/step - loss: 14.1778 - mae: 14.1778\n",
            "Epoch 23/100\n",
            "2/2 [==============================] - 0s 3ms/step - loss: 8.7814 - mae: 8.7814\n",
            "Epoch 24/100\n",
            "2/2 [==============================] - 0s 6ms/step - loss: 11.0673 - mae: 11.0673\n",
            "Epoch 25/100\n",
            "2/2 [==============================] - 0s 3ms/step - loss: 12.6998 - mae: 12.6998\n",
            "Epoch 26/100\n",
            "2/2 [==============================] - 0s 3ms/step - loss: 26.2395 - mae: 26.2395\n",
            "Epoch 27/100\n",
            "2/2 [==============================] - 0s 4ms/step - loss: 11.7524 - mae: 11.7524\n",
            "Epoch 28/100\n",
            "2/2 [==============================] - 0s 3ms/step - loss: 22.9252 - mae: 22.9252\n",
            "Epoch 29/100\n",
            "2/2 [==============================] - 0s 3ms/step - loss: 9.2439 - mae: 9.2439\n",
            "Epoch 30/100\n",
            "2/2 [==============================] - 0s 7ms/step - loss: 29.3121 - mae: 29.3121\n",
            "Epoch 31/100\n",
            "2/2 [==============================] - 0s 7ms/step - loss: 53.1141 - mae: 53.1141\n",
            "Epoch 32/100\n",
            "2/2 [==============================] - 0s 4ms/step - loss: 12.3708 - mae: 12.3708\n",
            "Epoch 33/100\n",
            "2/2 [==============================] - 0s 4ms/step - loss: 12.1831 - mae: 12.1831\n",
            "Epoch 34/100\n",
            "2/2 [==============================] - 0s 3ms/step - loss: 23.9483 - mae: 23.9483\n",
            "Epoch 35/100\n",
            "2/2 [==============================] - 0s 3ms/step - loss: 12.6223 - mae: 12.6223\n",
            "Epoch 36/100\n",
            "2/2 [==============================] - 0s 5ms/step - loss: 21.5243 - mae: 21.5243\n",
            "Epoch 37/100\n",
            "2/2 [==============================] - 0s 6ms/step - loss: 11.3913 - mae: 11.3913\n",
            "Epoch 38/100\n",
            "2/2 [==============================] - 0s 9ms/step - loss: 13.4744 - mae: 13.4744\n",
            "Epoch 39/100\n",
            "2/2 [==============================] - 0s 7ms/step - loss: 10.7992 - mae: 10.7992\n",
            "Epoch 40/100\n",
            "2/2 [==============================] - 0s 11ms/step - loss: 16.6026 - mae: 16.6026\n",
            "Epoch 41/100\n",
            "2/2 [==============================] - 0s 4ms/step - loss: 10.9797 - mae: 10.9797\n",
            "Epoch 42/100\n",
            "2/2 [==============================] - 0s 7ms/step - loss: 9.3049 - mae: 9.3049\n",
            "Epoch 43/100\n",
            "2/2 [==============================] - 0s 5ms/step - loss: 9.5985 - mae: 9.5985\n",
            "Epoch 44/100\n",
            "2/2 [==============================] - 0s 16ms/step - loss: 27.9750 - mae: 27.9750\n",
            "Epoch 45/100\n",
            "2/2 [==============================] - 0s 8ms/step - loss: 11.2865 - mae: 11.2865\n",
            "Epoch 46/100\n",
            "2/2 [==============================] - 0s 18ms/step - loss: 14.0574 - mae: 14.0574\n",
            "Epoch 47/100\n",
            "2/2 [==============================] - 0s 13ms/step - loss: 13.5113 - mae: 13.5113\n",
            "Epoch 48/100\n",
            "2/2 [==============================] - 0s 5ms/step - loss: 17.3531 - mae: 17.3531\n",
            "Epoch 49/100\n",
            "2/2 [==============================] - 0s 11ms/step - loss: 9.5141 - mae: 9.5141\n",
            "Epoch 50/100\n",
            "2/2 [==============================] - 0s 11ms/step - loss: 13.6965 - mae: 13.6965\n",
            "Epoch 51/100\n",
            "2/2 [==============================] - 0s 21ms/step - loss: 11.5602 - mae: 11.5602\n",
            "Epoch 52/100\n",
            "2/2 [==============================] - 0s 12ms/step - loss: 30.1688 - mae: 30.1688\n",
            "Epoch 53/100\n",
            "2/2 [==============================] - 0s 8ms/step - loss: 13.7142 - mae: 13.7142\n",
            "Epoch 54/100\n",
            "2/2 [==============================] - 0s 7ms/step - loss: 26.3987 - mae: 26.3987\n",
            "Epoch 55/100\n",
            "2/2 [==============================] - 0s 9ms/step - loss: 25.9838 - mae: 25.9838\n",
            "Epoch 56/100\n",
            "2/2 [==============================] - 0s 13ms/step - loss: 11.2307 - mae: 11.2307\n",
            "Epoch 57/100\n",
            "2/2 [==============================] - 0s 13ms/step - loss: 13.2025 - mae: 13.2025\n",
            "Epoch 58/100\n",
            "2/2 [==============================] - 0s 5ms/step - loss: 9.8624 - mae: 9.8624\n",
            "Epoch 59/100\n",
            "2/2 [==============================] - 0s 4ms/step - loss: 13.3870 - mae: 13.3870\n",
            "Epoch 60/100\n",
            "2/2 [==============================] - 0s 7ms/step - loss: 10.9240 - mae: 10.9240\n",
            "Epoch 61/100\n",
            "2/2 [==============================] - 0s 7ms/step - loss: 13.5375 - mae: 13.5375\n",
            "Epoch 62/100\n",
            "2/2 [==============================] - 0s 14ms/step - loss: 17.6004 - mae: 17.6004\n",
            "Epoch 63/100\n",
            "2/2 [==============================] - 0s 10ms/step - loss: 9.1937 - mae: 9.1937\n",
            "Epoch 64/100\n",
            "2/2 [==============================] - 0s 12ms/step - loss: 18.4644 - mae: 18.4644\n",
            "Epoch 65/100\n",
            "2/2 [==============================] - 0s 9ms/step - loss: 10.1481 - mae: 10.1481\n",
            "Epoch 66/100\n",
            "2/2 [==============================] - 0s 5ms/step - loss: 24.3358 - mae: 24.3358\n",
            "Epoch 67/100\n",
            "2/2 [==============================] - 0s 5ms/step - loss: 10.9262 - mae: 10.9262\n",
            "Epoch 68/100\n",
            "2/2 [==============================] - 0s 9ms/step - loss: 10.8005 - mae: 10.8005\n",
            "Epoch 69/100\n",
            "2/2 [==============================] - 0s 7ms/step - loss: 23.3093 - mae: 23.3093\n",
            "Epoch 70/100\n",
            "2/2 [==============================] - 0s 13ms/step - loss: 8.8134 - mae: 8.8134\n",
            "Epoch 71/100\n",
            "2/2 [==============================] - 0s 9ms/step - loss: 15.9715 - mae: 15.9715\n",
            "Epoch 72/100\n",
            "2/2 [==============================] - 0s 10ms/step - loss: 8.1469 - mae: 8.1469\n",
            "Epoch 73/100\n",
            "2/2 [==============================] - 0s 6ms/step - loss: 9.4683 - mae: 9.4683\n",
            "Epoch 74/100\n",
            "2/2 [==============================] - 0s 5ms/step - loss: 28.1492 - mae: 28.1492\n",
            "Epoch 75/100\n",
            "2/2 [==============================] - 0s 10ms/step - loss: 10.2183 - mae: 10.2183\n",
            "Epoch 76/100\n",
            "2/2 [==============================] - 0s 8ms/step - loss: 13.1686 - mae: 13.1686\n",
            "Epoch 77/100\n",
            "2/2 [==============================] - 0s 6ms/step - loss: 18.4013 - mae: 18.4013\n",
            "Epoch 78/100\n",
            "2/2 [==============================] - 0s 4ms/step - loss: 9.0304 - mae: 9.0304\n",
            "Epoch 79/100\n",
            "2/2 [==============================] - 0s 5ms/step - loss: 23.4407 - mae: 23.4407\n",
            "Epoch 80/100\n",
            "2/2 [==============================] - 0s 7ms/step - loss: 26.1121 - mae: 26.1121\n",
            "Epoch 81/100\n",
            "2/2 [==============================] - 0s 18ms/step - loss: 11.4009 - mae: 11.4009\n",
            "Epoch 82/100\n",
            "2/2 [==============================] - 0s 7ms/step - loss: 12.5022 - mae: 12.5022\n",
            "Epoch 83/100\n",
            "2/2 [==============================] - 0s 6ms/step - loss: 17.1948 - mae: 17.1948\n",
            "Epoch 84/100\n",
            "2/2 [==============================] - 0s 7ms/step - loss: 6.6097 - mae: 6.6097\n",
            "Epoch 85/100\n",
            "2/2 [==============================] - 0s 6ms/step - loss: 20.2735 - mae: 20.2735\n",
            "Epoch 86/100\n",
            "2/2 [==============================] - 0s 8ms/step - loss: 10.1761 - mae: 10.1761\n",
            "Epoch 87/100\n",
            "2/2 [==============================] - 0s 4ms/step - loss: 24.3047 - mae: 24.3047\n",
            "Epoch 88/100\n",
            "2/2 [==============================] - 0s 14ms/step - loss: 18.9693 - mae: 18.9693\n",
            "Epoch 89/100\n",
            "2/2 [==============================] - 0s 9ms/step - loss: 7.1749 - mae: 7.1749\n",
            "Epoch 90/100\n",
            "2/2 [==============================] - 0s 6ms/step - loss: 18.2784 - mae: 18.2784\n",
            "Epoch 91/100\n",
            "2/2 [==============================] - 0s 3ms/step - loss: 13.3343 - mae: 13.3343\n",
            "Epoch 92/100\n",
            "2/2 [==============================] - 0s 4ms/step - loss: 8.7404 - mae: 8.7404\n",
            "Epoch 93/100\n",
            "2/2 [==============================] - 0s 3ms/step - loss: 14.1947 - mae: 14.1947\n",
            "Epoch 94/100\n",
            "2/2 [==============================] - 0s 5ms/step - loss: 17.1954 - mae: 17.1954\n",
            "Epoch 95/100\n",
            "2/2 [==============================] - 0s 4ms/step - loss: 16.7777 - mae: 16.7777\n",
            "Epoch 96/100\n",
            "2/2 [==============================] - 0s 4ms/step - loss: 11.1365 - mae: 11.1365\n",
            "Epoch 97/100\n",
            "2/2 [==============================] - 0s 7ms/step - loss: 21.1982 - mae: 21.1982\n",
            "Epoch 98/100\n",
            "2/2 [==============================] - 0s 17ms/step - loss: 10.4874 - mae: 10.4874\n",
            "Epoch 99/100\n",
            "2/2 [==============================] - 0s 12ms/step - loss: 14.5632 - mae: 14.5632\n",
            "Epoch 100/100\n",
            "2/2 [==============================] - 0s 12ms/step - loss: 17.7188 - mae: 17.7188\n"
          ]
        },
        {
          "output_type": "execute_result",
          "data": {
            "text/plain": [
              "<keras.callbacks.History at 0x7f5f90648250>"
            ]
          },
          "metadata": {},
          "execution_count": 40
        }
      ]
    },
    {
      "cell_type": "code",
      "source": [
        "y_preds_2=model_2.predict(X_test)"
      ],
      "metadata": {
        "colab": {
          "base_uri": "https://localhost:8080/"
        },
        "id": "zRk9rmPKDoJ3",
        "outputId": "02795c6a-6bf5-4559-aca3-02d4b0fa2269"
      },
      "execution_count": 41,
      "outputs": [
        {
          "output_type": "stream",
          "name": "stdout",
          "text": [
            "WARNING:tensorflow:5 out of the last 5 calls to <function Model.make_predict_function.<locals>.predict_function at 0x7f5f90630b90> triggered tf.function retracing. Tracing is expensive and the excessive number of tracings could be due to (1) creating @tf.function repeatedly in a loop, (2) passing tensors with different shapes, (3) passing Python objects instead of tensors. For (1), please define your @tf.function outside of the loop. For (2), @tf.function has experimental_relax_shapes=True option that relaxes argument shapes that can avoid unnecessary retracing. For (3), please refer to https://www.tensorflow.org/guide/function#controlling_retracing and https://www.tensorflow.org/api_docs/python/tf/function for  more details.\n"
          ]
        }
      ]
    },
    {
      "cell_type": "code",
      "source": [
        "plot_prediction(predictions=y_preds_2)"
      ],
      "metadata": {
        "colab": {
          "base_uri": "https://localhost:8080/",
          "height": 428
        },
        "id": "mCTP-NDpDy3O",
        "outputId": "26d4a555-93cf-4c1a-d870-75c0309a21ce"
      },
      "execution_count": 42,
      "outputs": [
        {
          "output_type": "display_data",
          "data": {
            "image/png": "[encoded data removed]",
            "text/plain": [
              "<Figure size 720x504 with 1 Axes>"
            ]
          },
          "metadata": {
            "needs_background": "light"
          }
        }
      ]
    },
    {
      "cell_type": "code",
      "source": [
        "mae2=tf.metrics.mean_absolute_error(y_true=y_test,y_pred=y_preds_2.squeeze())\n",
        "mse2=tf.metrics.mean_absolute_error(y_true=y_test,y_pred=y_preds_2.squeeze())\n",
        "mae2,mse2"
      ],
      "metadata": {
        "colab": {
          "base_uri": "https://localhost:8080/"
        },
        "id": "5Xz9SDZ7D4uh",
        "outputId": "a8645989-161a-484f-e448-946a0f1d1740"
      },
      "execution_count": 43,
      "outputs": [
        {
          "output_type": "execute_result",
          "data": {
            "text/plain": [
              "(<tf.Tensor: shape=(), dtype=float32, numpy=1.9098114>,\n",
              " <tf.Tensor: shape=(), dtype=float32, numpy=1.9098114>)"
            ]
          },
          "metadata": {},
          "execution_count": 43
        }
      ]
    },
    {
      "cell_type": "markdown",
      "source": [
        "# **Build Model 3**"
      ],
      "metadata": {
        "id": "6cYaNvd4ECct"
      }
    },
    {
      "cell_type": "code",
      "source": [
        "tf.random.set_seed(42)\n",
        "\n",
        "#Create a model \n",
        "model_3=tf.keras.Sequential([\n",
        "                           tf.keras.layers.Dense(1,input_shape=[1]),\n",
        "                           tf.keras.layers.Dense(1)\n",
        "])\n",
        "\n",
        "#Compile model\n",
        "model_3.compile(loss=tf.keras.losses.mae,\n",
        "              optimizer=tf.keras.optimizers.SGD(),\n",
        "              metrics=[\"mae\"])\n",
        "\n",
        "model_3.fit(tf.expand_dims(X_train,axis=-1),y_train,epochs=500)"
      ],
      "metadata": {
        "colab": {
          "base_uri": "https://localhost:8080/"
        },
        "id": "fi0S-5RCEEZV",
        "outputId": "bad51cb3-3ccb-49f0-a0ad-d9dd18542dbb"
      },
      "execution_count": 44,
      "outputs": [
        {
          "output_type": "stream",
          "name": "stdout",
          "text": [
            "Epoch 1/500\n",
            "2/2 [==============================] - 1s 5ms/step - loss: 22.6625 - mae: 22.6625\n",
            "Epoch 2/500\n",
            "2/2 [==============================] - 0s 3ms/step - loss: 16.9439 - mae: 16.9439\n",
            "Epoch 3/500\n",
            "2/2 [==============================] - 0s 4ms/step - loss: 13.8059 - mae: 13.8059\n",
            "Epoch 4/500\n",
            "2/2 [==============================] - 0s 4ms/step - loss: 17.4504 - mae: 17.4504\n",
            "Epoch 5/500\n",
            "2/2 [==============================] - 0s 4ms/step - loss: 12.0637 - mae: 12.0637\n",
            "Epoch 6/500\n",
            "2/2 [==============================] - 0s 4ms/step - loss: 9.8335 - mae: 9.8335\n",
            "Epoch 7/500\n",
            "2/2 [==============================] - 0s 4ms/step - loss: 10.7023 - mae: 10.7023\n",
            "Epoch 8/500\n",
            "2/2 [==============================] - 0s 4ms/step - loss: 10.8713 - mae: 10.8713\n",
            "Epoch 9/500\n",
            "2/2 [==============================] - 0s 5ms/step - loss: 38.0435 - mae: 38.0435\n",
            "Epoch 10/500\n",
            "2/2 [==============================] - 0s 8ms/step - loss: 25.6226 - mae: 25.6226\n",
            "Epoch 11/500\n",
            "2/2 [==============================] - 0s 5ms/step - loss: 10.2375 - mae: 10.2375\n",
            "Epoch 12/500\n",
            "2/2 [==============================] - 0s 5ms/step - loss: 25.1960 - mae: 25.1960\n",
            "Epoch 13/500\n",
            "2/2 [==============================] - 0s 5ms/step - loss: 17.0177 - mae: 17.0177\n",
            "Epoch 14/500\n",
            "2/2 [==============================] - 0s 6ms/step - loss: 25.9747 - mae: 25.9747\n",
            "Epoch 15/500\n",
            "2/2 [==============================] - 0s 4ms/step - loss: 18.0366 - mae: 18.0366\n",
            "Epoch 16/500\n",
            "2/2 [==============================] - 0s 6ms/step - loss: 7.3513 - mae: 7.3513\n",
            "Epoch 17/500\n",
            "2/2 [==============================] - 0s 4ms/step - loss: 10.8516 - mae: 10.8516\n",
            "Epoch 18/500\n",
            "2/2 [==============================] - 0s 5ms/step - loss: 19.5119 - mae: 19.5119\n",
            "Epoch 19/500\n",
            "2/2 [==============================] - 0s 7ms/step - loss: 10.3378 - mae: 10.3378\n",
            "Epoch 20/500\n",
            "2/2 [==============================] - 0s 4ms/step - loss: 17.6840 - mae: 17.6840\n",
            "Epoch 21/500\n",
            "2/2 [==============================] - 0s 5ms/step - loss: 15.8826 - mae: 15.8826\n",
            "Epoch 22/500\n",
            "2/2 [==============================] - 0s 5ms/step - loss: 14.1778 - mae: 14.1778\n",
            "Epoch 23/500\n",
            "2/2 [==============================] - 0s 7ms/step - loss: 8.7814 - mae: 8.7814\n",
            "Epoch 24/500\n",
            "2/2 [==============================] - 0s 2ms/step - loss: 11.0673 - mae: 11.0673\n",
            "Epoch 25/500\n",
            "2/2 [==============================] - 0s 4ms/step - loss: 12.6998 - mae: 12.6998\n",
            "Epoch 26/500\n",
            "2/2 [==============================] - 0s 3ms/step - loss: 26.2395 - mae: 26.2395\n",
            "Epoch 27/500\n",
            "2/2 [==============================] - 0s 7ms/step - loss: 11.7524 - mae: 11.7524\n",
            "Epoch 28/500\n",
            "2/2 [==============================] - 0s 12ms/step - loss: 22.9252 - mae: 22.9252\n",
            "Epoch 29/500\n",
            "2/2 [==============================] - 0s 6ms/step - loss: 9.2439 - mae: 9.2439\n",
            "Epoch 30/500\n",
            "2/2 [==============================] - 0s 4ms/step - loss: 29.3121 - mae: 29.3121\n",
            "Epoch 31/500\n",
            "2/2 [==============================] - 0s 4ms/step - loss: 53.1141 - mae: 53.1141\n",
            "Epoch 32/500\n",
            "2/2 [==============================] - 0s 10ms/step - loss: 12.3708 - mae: 12.3708\n",
            "Epoch 33/500\n",
            "2/2 [==============================] - 0s 9ms/step - loss: 12.1831 - mae: 12.1831\n",
            "Epoch 34/500\n",
            "2/2 [==============================] - 0s 7ms/step - loss: 23.9483 - mae: 23.9483\n",
            "Epoch 35/500\n",
            "2/2 [==============================] - 0s 4ms/step - loss: 12.6223 - mae: 12.6223\n",
            "Epoch 36/500\n",
            "2/2 [==============================] - 0s 8ms/step - loss: 21.5243 - mae: 21.5243\n",
            "Epoch 37/500\n",
            "2/2 [==============================] - 0s 6ms/step - loss: 11.3913 - mae: 11.3913\n",
            "Epoch 38/500\n",
            "2/2 [==============================] - 0s 5ms/step - loss: 13.4744 - mae: 13.4744\n",
            "Epoch 39/500\n",
            "2/2 [==============================] - 0s 4ms/step - loss: 10.7992 - mae: 10.7992\n",
            "Epoch 40/500\n",
            "2/2 [==============================] - 0s 4ms/step - loss: 16.6026 - mae: 16.6026\n",
            "Epoch 41/500\n",
            "2/2 [==============================] - 0s 3ms/step - loss: 10.9797 - mae: 10.9797\n",
            "Epoch 42/500\n",
            "2/2 [==============================] - 0s 6ms/step - loss: 9.3049 - mae: 9.3049\n",
            "Epoch 43/500\n",
            "2/2 [==============================] - 0s 4ms/step - loss: 9.5985 - mae: 9.5985\n",
            "Epoch 44/500\n",
            "2/2 [==============================] - 0s 9ms/step - loss: 27.9750 - mae: 27.9750\n",
            "Epoch 45/500\n",
            "2/2 [==============================] - 0s 7ms/step - loss: 11.2865 - mae: 11.2865\n",
            "Epoch 46/500\n",
            "2/2 [==============================] - 0s 2ms/step - loss: 14.0574 - mae: 14.0574\n",
            "Epoch 47/500\n",
            "2/2 [==============================] - 0s 5ms/step - loss: 13.5113 - mae: 13.5113\n",
            "Epoch 48/500\n",
            "2/2 [==============================] - 0s 4ms/step - loss: 17.3531 - mae: 17.3531\n",
            "Epoch 49/500\n",
            "2/2 [==============================] - 0s 5ms/step - loss: 9.5141 - mae: 9.5141\n",
            "Epoch 50/500\n",
            "2/2 [==============================] - 0s 5ms/step - loss: 13.6965 - mae: 13.6965\n",
            "Epoch 51/500\n",
            "2/2 [==============================] - 0s 6ms/step - loss: 11.5602 - mae: 11.5602\n",
            "Epoch 52/500\n",
            "2/2 [==============================] - 0s 10ms/step - loss: 30.1688 - mae: 30.1688\n",
            "Epoch 53/500\n",
            "2/2 [==============================] - 0s 6ms/step - loss: 13.7142 - mae: 13.7142\n",
            "Epoch 54/500\n",
            "2/2 [==============================] - 0s 7ms/step - loss: 26.3987 - mae: 26.3987\n",
            "Epoch 55/500\n",
            "2/2 [==============================] - 0s 7ms/step - loss: 25.9838 - mae: 25.9838\n",
            "Epoch 56/500\n",
            "2/2 [==============================] - 0s 11ms/step - loss: 11.2307 - mae: 11.2307\n",
            "Epoch 57/500\n",
            "2/2 [==============================] - 0s 12ms/step - loss: 13.2025 - mae: 13.2025\n",
            "Epoch 58/500\n",
            "2/2 [==============================] - 0s 9ms/step - loss: 9.8624 - mae: 9.8624\n",
            "Epoch 59/500\n",
            "2/2 [==============================] - 0s 5ms/step - loss: 13.3870 - mae: 13.3870\n",
            "Epoch 60/500\n",
            "2/2 [==============================] - 0s 8ms/step - loss: 10.9240 - mae: 10.9240\n",
            "Epoch 61/500\n",
            "2/2 [==============================] - 0s 6ms/step - loss: 13.5375 - mae: 13.5375\n",
            "Epoch 62/500\n",
            "2/2 [==============================] - 0s 2ms/step - loss: 17.6004 - mae: 17.6004\n",
            "Epoch 63/500\n",
            "2/2 [==============================] - 0s 4ms/step - loss: 9.1937 - mae: 9.1937\n",
            "Epoch 64/500\n",
            "2/2 [==============================] - 0s 4ms/step - loss: 18.4644 - mae: 18.4644\n",
            "Epoch 65/500\n",
            "2/2 [==============================] - 0s 3ms/step - loss: 10.1481 - mae: 10.1481\n",
            "Epoch 66/500\n",
            "2/2 [==============================] - 0s 3ms/step - loss: 24.3358 - mae: 24.3358\n",
            "Epoch 67/500\n",
            "2/2 [==============================] - 0s 3ms/step - loss: 10.9262 - mae: 10.9262\n",
            "Epoch 68/500\n",
            "2/2 [==============================] - 0s 3ms/step - loss: 10.8005 - mae: 10.8005\n",
            "Epoch 69/500\n",
            "2/2 [==============================] - 0s 5ms/step - loss: 23.3093 - mae: 23.3093\n",
            "Epoch 70/500\n",
            "2/2 [==============================] - 0s 11ms/step - loss: 8.8134 - mae: 8.8134\n",
            "Epoch 71/500\n",
            "2/2 [==============================] - 0s 7ms/step - loss: 15.9715 - mae: 15.9715\n",
            "Epoch 72/500\n",
            "2/2 [==============================] - 0s 3ms/step - loss: 8.1469 - mae: 8.1469\n",
            "Epoch 73/500\n",
            "2/2 [==============================] - 0s 3ms/step - loss: 9.4683 - mae: 9.4683\n",
            "Epoch 74/500\n",
            "2/2 [==============================] - 0s 3ms/step - loss: 28.1492 - mae: 28.1492\n",
            "Epoch 75/500\n",
            "2/2 [==============================] - 0s 3ms/step - loss: 10.2183 - mae: 10.2183\n",
            "Epoch 76/500\n",
            "2/2 [==============================] - 0s 3ms/step - loss: 13.1686 - mae: 13.1686\n",
            "Epoch 77/500\n",
            "2/2 [==============================] - 0s 5ms/step - loss: 18.4013 - mae: 18.4013\n",
            "Epoch 78/500\n",
            "2/2 [==============================] - 0s 4ms/step - loss: 9.0304 - mae: 9.0304\n",
            "Epoch 79/500\n",
            "2/2 [==============================] - 0s 14ms/step - loss: 23.4407 - mae: 23.4407\n",
            "Epoch 80/500\n",
            "2/2 [==============================] - 0s 5ms/step - loss: 26.1121 - mae: 26.1121\n",
            "Epoch 81/500\n",
            "2/2 [==============================] - 0s 3ms/step - loss: 11.4009 - mae: 11.4009\n",
            "Epoch 82/500\n",
            "2/2 [==============================] - 0s 3ms/step - loss: 12.5022 - mae: 12.5022\n",
            "Epoch 83/500\n",
            "2/2 [==============================] - 0s 4ms/step - loss: 17.1948 - mae: 17.1948\n",
            "Epoch 84/500\n",
            "2/2 [==============================] - 0s 6ms/step - loss: 6.6097 - mae: 6.6097\n",
            "Epoch 85/500\n",
            "2/2 [==============================] - 0s 8ms/step - loss: 20.2735 - mae: 20.2735\n",
            "Epoch 86/500\n",
            "2/2 [==============================] - 0s 3ms/step - loss: 10.1761 - mae: 10.1761\n",
            "Epoch 87/500\n",
            "2/2 [==============================] - 0s 9ms/step - loss: 24.3047 - mae: 24.3047\n",
            "Epoch 88/500\n",
            "2/2 [==============================] - 0s 3ms/step - loss: 18.9693 - mae: 18.9693\n",
            "Epoch 89/500\n",
            "2/2 [==============================] - 0s 4ms/step - loss: 7.1749 - mae: 7.1749\n",
            "Epoch 90/500\n",
            "2/2 [==============================] - 0s 11ms/step - loss: 18.2784 - mae: 18.2784\n",
            "Epoch 91/500\n",
            "2/2 [==============================] - 0s 9ms/step - loss: 13.3343 - mae: 13.3343\n",
            "Epoch 92/500\n",
            "2/2 [==============================] - 0s 23ms/step - loss: 8.7404 - mae: 8.7404\n",
            "Epoch 93/500\n",
            "2/2 [==============================] - 0s 9ms/step - loss: 14.1947 - mae: 14.1947\n",
            "Epoch 94/500\n",
            "2/2 [==============================] - 0s 2ms/step - loss: 17.1954 - mae: 17.1954\n",
            "Epoch 95/500\n",
            "2/2 [==============================] - 0s 11ms/step - loss: 16.7777 - mae: 16.7777\n",
            "Epoch 96/500\n",
            "2/2 [==============================] - 0s 16ms/step - loss: 11.1365 - mae: 11.1365\n",
            "Epoch 97/500\n",
            "2/2 [==============================] - 0s 5ms/step - loss: 21.1982 - mae: 21.1982\n",
            "Epoch 98/500\n",
            "2/2 [==============================] - 0s 25ms/step - loss: 10.4874 - mae: 10.4874\n",
            "Epoch 99/500\n",
            "2/2 [==============================] - 0s 7ms/step - loss: 14.5632 - mae: 14.5632\n",
            "Epoch 100/500\n",
            "2/2 [==============================] - 0s 3ms/step - loss: 17.7188 - mae: 17.7188\n",
            "Epoch 101/500\n",
            "2/2 [==============================] - 0s 3ms/step - loss: 11.2612 - mae: 11.2612\n",
            "Epoch 102/500\n",
            "2/2 [==============================] - 0s 4ms/step - loss: 16.9771 - mae: 16.9771\n",
            "Epoch 103/500\n",
            "2/2 [==============================] - 0s 5ms/step - loss: 7.7652 - mae: 7.7652\n",
            "Epoch 104/500\n",
            "2/2 [==============================] - 0s 3ms/step - loss: 22.3546 - mae: 22.3546\n",
            "Epoch 105/500\n",
            "2/2 [==============================] - 0s 3ms/step - loss: 20.1003 - mae: 20.1003\n",
            "Epoch 106/500\n",
            "2/2 [==============================] - 0s 3ms/step - loss: 10.1066 - mae: 10.1066\n",
            "Epoch 107/500\n",
            "2/2 [==============================] - 0s 5ms/step - loss: 24.8571 - mae: 24.8571\n",
            "Epoch 108/500\n",
            "2/2 [==============================] - 0s 3ms/step - loss: 14.7660 - mae: 14.7660\n",
            "Epoch 109/500\n",
            "2/2 [==============================] - 0s 6ms/step - loss: 8.9636 - mae: 8.9636\n",
            "Epoch 110/500\n",
            "2/2 [==============================] - 0s 3ms/step - loss: 9.2212 - mae: 9.2212\n",
            "Epoch 111/500\n",
            "2/2 [==============================] - 0s 4ms/step - loss: 12.8236 - mae: 12.8236\n",
            "Epoch 112/500\n",
            "2/2 [==============================] - 0s 3ms/step - loss: 15.6233 - mae: 15.6233\n",
            "Epoch 113/500\n",
            "2/2 [==============================] - 0s 3ms/step - loss: 11.1865 - mae: 11.1865\n",
            "Epoch 114/500\n",
            "2/2 [==============================] - 0s 3ms/step - loss: 24.8269 - mae: 24.8269\n",
            "Epoch 115/500\n",
            "2/2 [==============================] - 0s 3ms/step - loss: 13.4715 - mae: 13.4715\n",
            "Epoch 116/500\n",
            "2/2 [==============================] - 0s 4ms/step - loss: 14.3496 - mae: 14.3496\n",
            "Epoch 117/500\n",
            "2/2 [==============================] - 0s 6ms/step - loss: 9.9493 - mae: 9.9493\n",
            "Epoch 118/500\n",
            "2/2 [==============================] - 0s 5ms/step - loss: 11.0617 - mae: 11.0617\n",
            "Epoch 119/500\n",
            "2/2 [==============================] - 0s 7ms/step - loss: 8.1352 - mae: 8.1352\n",
            "Epoch 120/500\n",
            "2/2 [==============================] - 0s 11ms/step - loss: 30.7021 - mae: 30.7021\n",
            "Epoch 121/500\n",
            "2/2 [==============================] - 0s 15ms/step - loss: 8.1569 - mae: 8.1569\n",
            "Epoch 122/500\n",
            "2/2 [==============================] - 0s 13ms/step - loss: 29.1132 - mae: 29.1132\n",
            "Epoch 123/500\n",
            "2/2 [==============================] - 0s 9ms/step - loss: 33.8910 - mae: 33.8910\n",
            "Epoch 124/500\n",
            "2/2 [==============================] - 0s 3ms/step - loss: 20.3869 - mae: 20.3869\n",
            "Epoch 125/500\n",
            "2/2 [==============================] - 0s 6ms/step - loss: 9.0836 - mae: 9.0836\n",
            "Epoch 126/500\n",
            "2/2 [==============================] - 0s 24ms/step - loss: 9.2367 - mae: 9.2367\n",
            "Epoch 127/500\n",
            "2/2 [==============================] - 0s 5ms/step - loss: 11.2743 - mae: 11.2743\n",
            "Epoch 128/500\n",
            "2/2 [==============================] - 0s 5ms/step - loss: 17.0387 - mae: 17.0387\n",
            "Epoch 129/500\n",
            "2/2 [==============================] - 0s 5ms/step - loss: 8.9837 - mae: 8.9837\n",
            "Epoch 130/500\n",
            "2/2 [==============================] - 0s 13ms/step - loss: 23.7027 - mae: 23.7027\n",
            "Epoch 131/500\n",
            "2/2 [==============================] - 0s 6ms/step - loss: 9.7015 - mae: 9.7015\n",
            "Epoch 132/500\n",
            "2/2 [==============================] - 0s 12ms/step - loss: 17.9953 - mae: 17.9953\n",
            "Epoch 133/500\n",
            "2/2 [==============================] - 0s 9ms/step - loss: 6.7527 - mae: 6.7527\n",
            "Epoch 134/500\n",
            "2/2 [==============================] - 0s 6ms/step - loss: 20.1873 - mae: 20.1873\n",
            "Epoch 135/500\n",
            "2/2 [==============================] - 0s 6ms/step - loss: 10.5004 - mae: 10.5004\n",
            "Epoch 136/500\n",
            "2/2 [==============================] - 0s 4ms/step - loss: 18.1094 - mae: 18.1094\n",
            "Epoch 137/500\n",
            "2/2 [==============================] - 0s 4ms/step - loss: 22.9300 - mae: 22.9300\n",
            "Epoch 138/500\n",
            "2/2 [==============================] - 0s 5ms/step - loss: 9.0650 - mae: 9.0650\n",
            "Epoch 139/500\n",
            "2/2 [==============================] - 0s 5ms/step - loss: 8.8799 - mae: 8.8799\n",
            "Epoch 140/500\n",
            "2/2 [==============================] - 0s 6ms/step - loss: 16.2794 - mae: 16.2794\n",
            "Epoch 141/500\n",
            "2/2 [==============================] - 0s 4ms/step - loss: 8.4378 - mae: 8.4378\n",
            "Epoch 142/500\n",
            "2/2 [==============================] - 0s 5ms/step - loss: 36.5281 - mae: 36.5281\n",
            "Epoch 143/500\n",
            "2/2 [==============================] - 0s 3ms/step - loss: 25.2531 - mae: 25.2531\n",
            "Epoch 144/500\n",
            "2/2 [==============================] - 0s 3ms/step - loss: 10.4689 - mae: 10.4689\n",
            "Epoch 145/500\n",
            "2/2 [==============================] - 0s 5ms/step - loss: 25.8080 - mae: 25.8080\n",
            "Epoch 146/500\n",
            "2/2 [==============================] - 0s 4ms/step - loss: 9.9834 - mae: 9.9834\n",
            "Epoch 147/500\n",
            "2/2 [==============================] - 0s 7ms/step - loss: 14.7007 - mae: 14.7007\n",
            "Epoch 148/500\n",
            "2/2 [==============================] - 0s 12ms/step - loss: 17.8050 - mae: 17.8050\n",
            "Epoch 149/500\n",
            "2/2 [==============================] - 0s 7ms/step - loss: 8.4769 - mae: 8.4769\n",
            "Epoch 150/500\n",
            "2/2 [==============================] - 0s 11ms/step - loss: 7.6249 - mae: 7.6249\n",
            "Epoch 151/500\n",
            "2/2 [==============================] - 0s 16ms/step - loss: 18.9286 - mae: 18.9286\n",
            "Epoch 152/500\n",
            "2/2 [==============================] - 0s 10ms/step - loss: 10.4785 - mae: 10.4785\n",
            "Epoch 153/500\n",
            "2/2 [==============================] - 0s 14ms/step - loss: 30.5114 - mae: 30.5114\n",
            "Epoch 154/500\n",
            "2/2 [==============================] - 0s 10ms/step - loss: 9.9628 - mae: 9.9628\n",
            "Epoch 155/500\n",
            "2/2 [==============================] - 0s 9ms/step - loss: 15.7147 - mae: 15.7147\n",
            "Epoch 156/500\n",
            "2/2 [==============================] - 0s 12ms/step - loss: 17.5991 - mae: 17.5991\n",
            "Epoch 157/500\n",
            "2/2 [==============================] - 0s 6ms/step - loss: 31.2962 - mae: 31.2962\n",
            "Epoch 158/500\n",
            "2/2 [==============================] - 0s 6ms/step - loss: 10.2597 - mae: 10.2597\n",
            "Epoch 159/500\n",
            "2/2 [==============================] - 0s 5ms/step - loss: 8.7076 - mae: 8.7076\n",
            "Epoch 160/500\n",
            "2/2 [==============================] - 0s 5ms/step - loss: 20.8764 - mae: 20.8764\n",
            "Epoch 161/500\n",
            "2/2 [==============================] - 0s 4ms/step - loss: 11.8638 - mae: 11.8638\n",
            "Epoch 162/500\n",
            "2/2 [==============================] - 0s 9ms/step - loss: 21.8614 - mae: 21.8614\n",
            "Epoch 163/500\n",
            "2/2 [==============================] - 0s 7ms/step - loss: 19.5262 - mae: 19.5262\n",
            "Epoch 164/500\n",
            "2/2 [==============================] - 0s 3ms/step - loss: 11.4217 - mae: 11.4217\n",
            "Epoch 165/500\n",
            "2/2 [==============================] - 0s 11ms/step - loss: 11.6115 - mae: 11.6115\n",
            "Epoch 166/500\n",
            "2/2 [==============================] - 0s 5ms/step - loss: 21.3573 - mae: 21.3573\n",
            "Epoch 167/500\n",
            "2/2 [==============================] - 0s 22ms/step - loss: 26.8833 - mae: 26.8833\n",
            "Epoch 168/500\n",
            "2/2 [==============================] - 0s 8ms/step - loss: 10.0079 - mae: 10.0079\n",
            "Epoch 169/500\n",
            "2/2 [==============================] - 0s 8ms/step - loss: 23.1243 - mae: 23.1243\n",
            "Epoch 170/500\n",
            "2/2 [==============================] - 0s 5ms/step - loss: 9.5960 - mae: 9.5960\n",
            "Epoch 171/500\n",
            "2/2 [==============================] - 0s 6ms/step - loss: 15.8613 - mae: 15.8613\n",
            "Epoch 172/500\n",
            "2/2 [==============================] - 0s 3ms/step - loss: 13.8936 - mae: 13.8936\n",
            "Epoch 173/500\n",
            "2/2 [==============================] - 0s 3ms/step - loss: 22.5890 - mae: 22.5890\n",
            "Epoch 174/500\n",
            "2/2 [==============================] - 0s 3ms/step - loss: 11.3498 - mae: 11.3498\n",
            "Epoch 175/500\n",
            "2/2 [==============================] - 0s 4ms/step - loss: 20.0652 - mae: 20.0652\n",
            "Epoch 176/500\n",
            "2/2 [==============================] - 0s 18ms/step - loss: 7.4087 - mae: 7.4087\n",
            "Epoch 177/500\n",
            "2/2 [==============================] - 0s 10ms/step - loss: 8.5979 - mae: 8.5979\n",
            "Epoch 178/500\n",
            "2/2 [==============================] - 0s 11ms/step - loss: 15.4691 - mae: 15.4691\n",
            "Epoch 179/500\n",
            "2/2 [==============================] - 0s 11ms/step - loss: 9.3098 - mae: 9.3098\n",
            "Epoch 180/500\n",
            "2/2 [==============================] - 0s 8ms/step - loss: 8.1326 - mae: 8.1326\n",
            "Epoch 181/500\n",
            "2/2 [==============================] - 0s 9ms/step - loss: 18.6995 - mae: 18.6995\n",
            "Epoch 182/500\n",
            "2/2 [==============================] - 0s 6ms/step - loss: 10.7752 - mae: 10.7752\n",
            "Epoch 183/500\n",
            "2/2 [==============================] - 0s 10ms/step - loss: 10.9010 - mae: 10.9010\n",
            "Epoch 184/500\n",
            "2/2 [==============================] - 0s 3ms/step - loss: 33.6795 - mae: 33.6795\n",
            "Epoch 185/500\n",
            "2/2 [==============================] - 0s 10ms/step - loss: 7.6256 - mae: 7.6256\n",
            "Epoch 186/500\n",
            "2/2 [==============================] - 0s 13ms/step - loss: 16.7550 - mae: 16.7550\n",
            "Epoch 187/500\n",
            "2/2 [==============================] - 0s 6ms/step - loss: 10.1933 - mae: 10.1933\n",
            "Epoch 188/500\n",
            "2/2 [==============================] - 0s 11ms/step - loss: 23.0484 - mae: 23.0484\n",
            "Epoch 189/500\n",
            "2/2 [==============================] - 0s 31ms/step - loss: 9.8744 - mae: 9.8744\n",
            "Epoch 190/500\n",
            "2/2 [==============================] - 0s 9ms/step - loss: 15.2768 - mae: 15.2768\n",
            "Epoch 191/500\n",
            "2/2 [==============================] - 0s 13ms/step - loss: 9.9642 - mae: 9.9642\n",
            "Epoch 192/500\n",
            "2/2 [==============================] - 0s 9ms/step - loss: 14.9958 - mae: 14.9958\n",
            "Epoch 193/500\n",
            "2/2 [==============================] - 0s 20ms/step - loss: 29.6780 - mae: 29.6780\n",
            "Epoch 194/500\n",
            "2/2 [==============================] - 0s 20ms/step - loss: 8.3824 - mae: 8.3824\n",
            "Epoch 195/500\n",
            "2/2 [==============================] - 0s 10ms/step - loss: 12.9099 - mae: 12.9099\n",
            "Epoch 196/500\n",
            "2/2 [==============================] - 0s 6ms/step - loss: 23.9535 - mae: 23.9535\n",
            "Epoch 197/500\n",
            "2/2 [==============================] - 0s 6ms/step - loss: 16.7607 - mae: 16.7607\n",
            "Epoch 198/500\n",
            "2/2 [==============================] - 0s 4ms/step - loss: 11.4553 - mae: 11.4553\n",
            "Epoch 199/500\n",
            "2/2 [==============================] - 0s 5ms/step - loss: 19.5603 - mae: 19.5603\n",
            "Epoch 200/500\n",
            "2/2 [==============================] - 0s 6ms/step - loss: 15.7255 - mae: 15.7255\n",
            "Epoch 201/500\n",
            "2/2 [==============================] - 0s 3ms/step - loss: 10.5874 - mae: 10.5874\n",
            "Epoch 202/500\n",
            "2/2 [==============================] - 0s 4ms/step - loss: 22.4504 - mae: 22.4504\n",
            "Epoch 203/500\n",
            "2/2 [==============================] - 0s 3ms/step - loss: 21.6605 - mae: 21.6605\n",
            "Epoch 204/500\n",
            "2/2 [==============================] - 0s 3ms/step - loss: 17.2725 - mae: 17.2725\n",
            "Epoch 205/500\n",
            "2/2 [==============================] - 0s 6ms/step - loss: 9.4795 - mae: 9.4795\n",
            "Epoch 206/500\n",
            "2/2 [==============================] - 0s 5ms/step - loss: 11.1134 - mae: 11.1134\n",
            "Epoch 207/500\n",
            "2/2 [==============================] - 0s 4ms/step - loss: 17.6008 - mae: 17.6008\n",
            "Epoch 208/500\n",
            "2/2 [==============================] - 0s 7ms/step - loss: 14.3340 - mae: 14.3340\n",
            "Epoch 209/500\n",
            "2/2 [==============================] - 0s 3ms/step - loss: 16.6363 - mae: 16.6363\n",
            "Epoch 210/500\n",
            "2/2 [==============================] - 0s 7ms/step - loss: 18.1361 - mae: 18.1361\n",
            "Epoch 211/500\n",
            "2/2 [==============================] - 0s 3ms/step - loss: 9.9325 - mae: 9.9325\n",
            "Epoch 212/500\n",
            "2/2 [==============================] - 0s 8ms/step - loss: 18.5932 - mae: 18.5932\n",
            "Epoch 213/500\n",
            "2/2 [==============================] - 0s 3ms/step - loss: 14.9830 - mae: 14.9830\n",
            "Epoch 214/500\n",
            "2/2 [==============================] - 0s 3ms/step - loss: 14.5550 - mae: 14.5550\n",
            "Epoch 215/500\n",
            "2/2 [==============================] - 0s 7ms/step - loss: 23.2258 - mae: 23.2258\n",
            "Epoch 216/500\n",
            "2/2 [==============================] - 0s 5ms/step - loss: 13.5046 - mae: 13.5046\n",
            "Epoch 217/500\n",
            "2/2 [==============================] - 0s 4ms/step - loss: 9.9874 - mae: 9.9874\n",
            "Epoch 218/500\n",
            "2/2 [==============================] - 0s 6ms/step - loss: 12.4790 - mae: 12.4790\n",
            "Epoch 219/500\n",
            "2/2 [==============================] - 0s 3ms/step - loss: 5.3193 - mae: 5.3193\n",
            "Epoch 220/500\n",
            "2/2 [==============================] - 0s 6ms/step - loss: 12.4031 - mae: 12.4031\n",
            "Epoch 221/500\n",
            "2/2 [==============================] - 0s 3ms/step - loss: 22.3804 - mae: 22.3804\n",
            "Epoch 222/500\n",
            "2/2 [==============================] - 0s 7ms/step - loss: 21.4821 - mae: 21.4821\n",
            "Epoch 223/500\n",
            "2/2 [==============================] - 0s 5ms/step - loss: 11.6657 - mae: 11.6657\n",
            "Epoch 224/500\n",
            "2/2 [==============================] - 0s 3ms/step - loss: 13.5729 - mae: 13.5729\n",
            "Epoch 225/500\n",
            "2/2 [==============================] - 0s 3ms/step - loss: 15.7083 - mae: 15.7083\n",
            "Epoch 226/500\n",
            "2/2 [==============================] - 0s 3ms/step - loss: 14.9526 - mae: 14.9526\n",
            "Epoch 227/500\n",
            "2/2 [==============================] - 0s 6ms/step - loss: 15.2855 - mae: 15.2855\n",
            "Epoch 228/500\n",
            "2/2 [==============================] - 0s 6ms/step - loss: 17.4495 - mae: 17.4495\n",
            "Epoch 229/500\n",
            "2/2 [==============================] - 0s 4ms/step - loss: 7.2128 - mae: 7.2128\n",
            "Epoch 230/500\n",
            "2/2 [==============================] - 0s 3ms/step - loss: 7.4579 - mae: 7.4579\n",
            "Epoch 231/500\n",
            "2/2 [==============================] - 0s 6ms/step - loss: 24.7665 - mae: 24.7665\n",
            "Epoch 232/500\n",
            "2/2 [==============================] - 0s 8ms/step - loss: 8.7807 - mae: 8.7807\n",
            "Epoch 233/500\n",
            "2/2 [==============================] - 0s 4ms/step - loss: 24.7248 - mae: 24.7248\n",
            "Epoch 234/500\n",
            "2/2 [==============================] - 0s 5ms/step - loss: 8.1448 - mae: 8.1448\n",
            "Epoch 235/500\n",
            "2/2 [==============================] - 0s 4ms/step - loss: 12.7116 - mae: 12.7116\n",
            "Epoch 236/500\n",
            "2/2 [==============================] - 0s 4ms/step - loss: 7.7151 - mae: 7.7151\n",
            "Epoch 237/500\n",
            "2/2 [==============================] - 0s 4ms/step - loss: 10.0243 - mae: 10.0243\n",
            "Epoch 238/500\n",
            "2/2 [==============================] - 0s 3ms/step - loss: 8.5508 - mae: 8.5508\n",
            "Epoch 239/500\n",
            "2/2 [==============================] - 0s 2ms/step - loss: 18.8639 - mae: 18.8639\n",
            "Epoch 240/500\n",
            "2/2 [==============================] - 0s 2ms/step - loss: 8.9871 - mae: 8.9871\n",
            "Epoch 241/500\n",
            "2/2 [==============================] - 0s 6ms/step - loss: 13.3864 - mae: 13.3864\n",
            "Epoch 242/500\n",
            "2/2 [==============================] - 0s 2ms/step - loss: 8.8832 - mae: 8.8832\n",
            "Epoch 243/500\n",
            "2/2 [==============================] - 0s 7ms/step - loss: 19.2384 - mae: 19.2384\n",
            "Epoch 244/500\n",
            "2/2 [==============================] - 0s 3ms/step - loss: 13.9083 - mae: 13.9083\n",
            "Epoch 245/500\n",
            "2/2 [==============================] - 0s 7ms/step - loss: 14.5554 - mae: 14.5554\n",
            "Epoch 246/500\n",
            "2/2 [==============================] - 0s 3ms/step - loss: 15.6931 - mae: 15.6931\n",
            "Epoch 247/500\n",
            "2/2 [==============================] - 0s 2ms/step - loss: 17.5340 - mae: 17.5340\n",
            "Epoch 248/500\n",
            "2/2 [==============================] - 0s 2ms/step - loss: 13.0999 - mae: 13.0999\n",
            "Epoch 249/500\n",
            "2/2 [==============================] - 0s 3ms/step - loss: 14.4328 - mae: 14.4328\n",
            "Epoch 250/500\n",
            "2/2 [==============================] - 0s 2ms/step - loss: 27.8382 - mae: 27.8382\n",
            "Epoch 251/500\n",
            "2/2 [==============================] - 0s 8ms/step - loss: 7.5069 - mae: 7.5069\n",
            "Epoch 252/500\n",
            "2/2 [==============================] - 0s 2ms/step - loss: 38.1139 - mae: 38.1139\n",
            "Epoch 253/500\n",
            "2/2 [==============================] - 0s 3ms/step - loss: 22.9281 - mae: 22.9281\n",
            "Epoch 254/500\n",
            "2/2 [==============================] - 0s 8ms/step - loss: 7.4438 - mae: 7.4438\n",
            "Epoch 255/500\n",
            "2/2 [==============================] - 0s 3ms/step - loss: 25.8148 - mae: 25.8148\n",
            "Epoch 256/500\n",
            "2/2 [==============================] - 0s 6ms/step - loss: 13.7325 - mae: 13.7325\n",
            "Epoch 257/500\n",
            "2/2 [==============================] - 0s 4ms/step - loss: 8.3459 - mae: 8.3459\n",
            "Epoch 258/500\n",
            "2/2 [==============================] - 0s 15ms/step - loss: 13.2279 - mae: 13.2279\n",
            "Epoch 259/500\n",
            "2/2 [==============================] - 0s 9ms/step - loss: 10.2463 - mae: 10.2463\n",
            "Epoch 260/500\n",
            "2/2 [==============================] - 0s 5ms/step - loss: 33.6563 - mae: 33.6563\n",
            "Epoch 261/500\n",
            "2/2 [==============================] - 0s 5ms/step - loss: 12.4289 - mae: 12.4289\n",
            "Epoch 262/500\n",
            "2/2 [==============================] - 0s 3ms/step - loss: 8.9121 - mae: 8.9121\n",
            "Epoch 263/500\n",
            "2/2 [==============================] - 0s 5ms/step - loss: 8.2714 - mae: 8.2714\n",
            "Epoch 264/500\n",
            "2/2 [==============================] - 0s 5ms/step - loss: 18.8088 - mae: 18.8088\n",
            "Epoch 265/500\n",
            "2/2 [==============================] - 0s 4ms/step - loss: 11.7215 - mae: 11.7215\n",
            "Epoch 266/500\n",
            "2/2 [==============================] - 0s 6ms/step - loss: 13.5943 - mae: 13.5943\n",
            "Epoch 267/500\n",
            "2/2 [==============================] - 0s 7ms/step - loss: 11.2338 - mae: 11.2338\n",
            "Epoch 268/500\n",
            "2/2 [==============================] - 0s 8ms/step - loss: 19.5453 - mae: 19.5453\n",
            "Epoch 269/500\n",
            "2/2 [==============================] - 0s 7ms/step - loss: 39.5157 - mae: 39.5157\n",
            "Epoch 270/500\n",
            "2/2 [==============================] - 0s 6ms/step - loss: 12.1134 - mae: 12.1134\n",
            "Epoch 271/500\n",
            "2/2 [==============================] - 0s 6ms/step - loss: 14.3649 - mae: 14.3649\n",
            "Epoch 272/500\n",
            "2/2 [==============================] - 0s 5ms/step - loss: 27.7528 - mae: 27.7528\n",
            "Epoch 273/500\n",
            "2/2 [==============================] - 0s 6ms/step - loss: 8.2436 - mae: 8.2436\n",
            "Epoch 274/500\n",
            "2/2 [==============================] - 0s 5ms/step - loss: 6.4461 - mae: 6.4461\n",
            "Epoch 275/500\n",
            "2/2 [==============================] - 0s 5ms/step - loss: 34.9599 - mae: 34.9599\n",
            "Epoch 276/500\n",
            "2/2 [==============================] - 0s 10ms/step - loss: 8.0558 - mae: 8.0558\n",
            "Epoch 277/500\n",
            "2/2 [==============================] - 0s 8ms/step - loss: 26.1170 - mae: 26.1170\n",
            "Epoch 278/500\n",
            "2/2 [==============================] - 0s 4ms/step - loss: 11.3321 - mae: 11.3321\n",
            "Epoch 279/500\n",
            "2/2 [==============================] - 0s 9ms/step - loss: 16.1102 - mae: 16.1102\n",
            "Epoch 280/500\n",
            "2/2 [==============================] - 0s 13ms/step - loss: 21.2435 - mae: 21.2435\n",
            "Epoch 281/500\n",
            "2/2 [==============================] - 0s 11ms/step - loss: 23.7810 - mae: 23.7810\n",
            "Epoch 282/500\n",
            "2/2 [==============================] - 0s 8ms/step - loss: 8.2441 - mae: 8.2441\n",
            "Epoch 283/500\n",
            "2/2 [==============================] - 0s 9ms/step - loss: 8.4285 - mae: 8.4285\n",
            "Epoch 284/500\n",
            "2/2 [==============================] - 0s 11ms/step - loss: 26.6308 - mae: 26.6308\n",
            "Epoch 285/500\n",
            "2/2 [==============================] - 0s 9ms/step - loss: 14.2314 - mae: 14.2314\n",
            "Epoch 286/500\n",
            "2/2 [==============================] - 0s 4ms/step - loss: 5.2458 - mae: 5.2458\n",
            "Epoch 287/500\n",
            "2/2 [==============================] - 0s 4ms/step - loss: 20.8119 - mae: 20.8119\n",
            "Epoch 288/500\n",
            "2/2 [==============================] - 0s 5ms/step - loss: 27.6881 - mae: 27.6881\n",
            "Epoch 289/500\n",
            "2/2 [==============================] - 0s 3ms/step - loss: 11.0046 - mae: 11.0046\n",
            "Epoch 290/500\n",
            "2/2 [==============================] - 0s 5ms/step - loss: 16.1976 - mae: 16.1976\n",
            "Epoch 291/500\n",
            "2/2 [==============================] - 0s 6ms/step - loss: 16.3652 - mae: 16.3652\n",
            "Epoch 292/500\n",
            "2/2 [==============================] - 0s 12ms/step - loss: 14.6295 - mae: 14.6295\n",
            "Epoch 293/500\n",
            "2/2 [==============================] - 0s 14ms/step - loss: 15.9419 - mae: 15.9419\n",
            "Epoch 294/500\n",
            "2/2 [==============================] - 0s 12ms/step - loss: 24.0848 - mae: 24.0848\n",
            "Epoch 295/500\n",
            "2/2 [==============================] - 0s 5ms/step - loss: 14.7127 - mae: 14.7127\n",
            "Epoch 296/500\n",
            "2/2 [==============================] - 0s 5ms/step - loss: 4.5065 - mae: 4.5065\n",
            "Epoch 297/500\n",
            "2/2 [==============================] - 0s 7ms/step - loss: 9.6685 - mae: 9.6685\n",
            "Epoch 298/500\n",
            "2/2 [==============================] - 0s 11ms/step - loss: 23.7733 - mae: 23.7733\n",
            "Epoch 299/500\n",
            "2/2 [==============================] - 0s 4ms/step - loss: 19.0267 - mae: 19.0267\n",
            "Epoch 300/500\n",
            "2/2 [==============================] - 0s 10ms/step - loss: 8.8169 - mae: 8.8169\n",
            "Epoch 301/500\n",
            "2/2 [==============================] - 0s 8ms/step - loss: 15.8882 - mae: 15.8882\n",
            "Epoch 302/500\n",
            "2/2 [==============================] - 0s 9ms/step - loss: 5.7412 - mae: 5.7412\n",
            "Epoch 303/500\n",
            "2/2 [==============================] - 0s 7ms/step - loss: 22.9852 - mae: 22.9852\n",
            "Epoch 304/500\n",
            "2/2 [==============================] - 0s 8ms/step - loss: 26.0575 - mae: 26.0575\n",
            "Epoch 305/500\n",
            "2/2 [==============================] - 0s 9ms/step - loss: 9.5871 - mae: 9.5871\n",
            "Epoch 306/500\n",
            "2/2 [==============================] - 0s 4ms/step - loss: 17.8152 - mae: 17.8152\n",
            "Epoch 307/500\n",
            "2/2 [==============================] - 0s 11ms/step - loss: 9.7940 - mae: 9.7940\n",
            "Epoch 308/500\n",
            "2/2 [==============================] - 0s 11ms/step - loss: 20.5450 - mae: 20.5450\n",
            "Epoch 309/500\n",
            "2/2 [==============================] - 0s 9ms/step - loss: 13.6686 - mae: 13.6686\n",
            "Epoch 310/500\n",
            "2/2 [==============================] - 0s 3ms/step - loss: 6.6468 - mae: 6.6468\n",
            "Epoch 311/500\n",
            "2/2 [==============================] - 0s 5ms/step - loss: 13.3861 - mae: 13.3861\n",
            "Epoch 312/500\n",
            "2/2 [==============================] - 0s 4ms/step - loss: 30.1870 - mae: 30.1870\n",
            "Epoch 313/500\n",
            "2/2 [==============================] - 0s 7ms/step - loss: 7.2613 - mae: 7.2613\n",
            "Epoch 314/500\n",
            "2/2 [==============================] - 0s 3ms/step - loss: 10.5500 - mae: 10.5500\n",
            "Epoch 315/500\n",
            "2/2 [==============================] - 0s 12ms/step - loss: 23.5548 - mae: 23.5548\n",
            "Epoch 316/500\n",
            "2/2 [==============================] - 0s 6ms/step - loss: 14.4469 - mae: 14.4469\n",
            "Epoch 317/500\n",
            "2/2 [==============================] - 0s 5ms/step - loss: 20.0025 - mae: 20.0025\n",
            "Epoch 318/500\n",
            "2/2 [==============================] - 0s 5ms/step - loss: 8.0088 - mae: 8.0088\n",
            "Epoch 319/500\n",
            "2/2 [==============================] - 0s 7ms/step - loss: 18.1318 - mae: 18.1318\n",
            "Epoch 320/500\n",
            "2/2 [==============================] - 0s 7ms/step - loss: 10.6560 - mae: 10.6560\n",
            "Epoch 321/500\n",
            "2/2 [==============================] - 0s 3ms/step - loss: 7.0358 - mae: 7.0358\n",
            "Epoch 322/500\n",
            "2/2 [==============================] - 0s 8ms/step - loss: 8.6712 - mae: 8.6712\n",
            "Epoch 323/500\n",
            "2/2 [==============================] - 0s 11ms/step - loss: 18.3342 - mae: 18.3342\n",
            "Epoch 324/500\n",
            "2/2 [==============================] - 0s 9ms/step - loss: 6.3114 - mae: 6.3114\n",
            "Epoch 325/500\n",
            "2/2 [==============================] - 0s 6ms/step - loss: 14.6204 - mae: 14.6204\n",
            "Epoch 326/500\n",
            "2/2 [==============================] - 0s 6ms/step - loss: 6.9930 - mae: 6.9930\n",
            "Epoch 327/500\n",
            "2/2 [==============================] - 0s 6ms/step - loss: 17.6297 - mae: 17.6297\n",
            "Epoch 328/500\n",
            "2/2 [==============================] - 0s 7ms/step - loss: 14.3738 - mae: 14.3738\n",
            "Epoch 329/500\n",
            "2/2 [==============================] - 0s 4ms/step - loss: 17.6862 - mae: 17.6862\n",
            "Epoch 330/500\n",
            "2/2 [==============================] - 0s 10ms/step - loss: 6.7832 - mae: 6.7832\n",
            "Epoch 331/500\n",
            "2/2 [==============================] - 0s 12ms/step - loss: 19.7392 - mae: 19.7392\n",
            "Epoch 332/500\n",
            "2/2 [==============================] - 0s 8ms/step - loss: 10.5504 - mae: 10.5504\n",
            "Epoch 333/500\n",
            "2/2 [==============================] - 0s 3ms/step - loss: 16.3365 - mae: 16.3365\n",
            "Epoch 334/500\n",
            "2/2 [==============================] - 0s 5ms/step - loss: 9.7204 - mae: 9.7204\n",
            "Epoch 335/500\n",
            "2/2 [==============================] - 0s 8ms/step - loss: 13.0571 - mae: 13.0571\n",
            "Epoch 336/500\n",
            "2/2 [==============================] - 0s 15ms/step - loss: 32.4954 - mae: 32.4954\n",
            "Epoch 337/500\n",
            "2/2 [==============================] - 0s 6ms/step - loss: 11.0398 - mae: 11.0398\n",
            "Epoch 338/500\n",
            "2/2 [==============================] - 0s 3ms/step - loss: 19.9557 - mae: 19.9557\n",
            "Epoch 339/500\n",
            "2/2 [==============================] - 0s 14ms/step - loss: 34.3118 - mae: 34.3118\n",
            "Epoch 340/500\n",
            "2/2 [==============================] - 0s 7ms/step - loss: 8.7204 - mae: 8.7204\n",
            "Epoch 341/500\n",
            "2/2 [==============================] - 0s 12ms/step - loss: 21.9521 - mae: 21.9521\n",
            "Epoch 342/500\n",
            "2/2 [==============================] - 0s 14ms/step - loss: 13.8474 - mae: 13.8474\n",
            "Epoch 343/500\n",
            "2/2 [==============================] - 0s 8ms/step - loss: 11.6931 - mae: 11.6931\n",
            "Epoch 344/500\n",
            "2/2 [==============================] - 0s 9ms/step - loss: 10.6911 - mae: 10.6911\n",
            "Epoch 345/500\n",
            "2/2 [==============================] - 0s 10ms/step - loss: 30.9080 - mae: 30.9080\n",
            "Epoch 346/500\n",
            "2/2 [==============================] - 0s 3ms/step - loss: 10.6418 - mae: 10.6418\n",
            "Epoch 347/500\n",
            "2/2 [==============================] - 0s 3ms/step - loss: 25.5682 - mae: 25.5682\n",
            "Epoch 348/500\n",
            "2/2 [==============================] - 0s 5ms/step - loss: 13.2760 - mae: 13.2760\n",
            "Epoch 349/500\n",
            "2/2 [==============================] - 0s 9ms/step - loss: 13.0389 - mae: 13.0389\n",
            "Epoch 350/500\n",
            "2/2 [==============================] - 0s 6ms/step - loss: 15.4016 - mae: 15.4016\n",
            "Epoch 351/500\n",
            "2/2 [==============================] - 0s 8ms/step - loss: 32.8786 - mae: 32.8786\n",
            "Epoch 352/500\n",
            "2/2 [==============================] - 0s 26ms/step - loss: 14.0887 - mae: 14.0887\n",
            "Epoch 353/500\n",
            "2/2 [==============================] - 0s 6ms/step - loss: 17.7845 - mae: 17.7845\n",
            "Epoch 354/500\n",
            "2/2 [==============================] - 0s 8ms/step - loss: 11.3456 - mae: 11.3456\n",
            "Epoch 355/500\n",
            "2/2 [==============================] - 0s 11ms/step - loss: 26.7768 - mae: 26.7768\n",
            "Epoch 356/500\n",
            "2/2 [==============================] - 0s 35ms/step - loss: 10.1413 - mae: 10.1413\n",
            "Epoch 357/500\n",
            "2/2 [==============================] - 0s 23ms/step - loss: 14.6965 - mae: 14.6965\n",
            "Epoch 358/500\n",
            "2/2 [==============================] - 0s 4ms/step - loss: 14.5669 - mae: 14.5669\n",
            "Epoch 359/500\n",
            "2/2 [==============================] - 0s 3ms/step - loss: 12.3553 - mae: 12.3553\n",
            "Epoch 360/500\n",
            "2/2 [==============================] - 0s 9ms/step - loss: 20.3741 - mae: 20.3741\n",
            "Epoch 361/500\n",
            "2/2 [==============================] - 0s 17ms/step - loss: 10.8611 - mae: 10.8611\n",
            "Epoch 362/500\n",
            "2/2 [==============================] - 0s 15ms/step - loss: 6.8143 - mae: 6.8143\n",
            "Epoch 363/500\n",
            "2/2 [==============================] - 0s 6ms/step - loss: 23.7580 - mae: 23.7580\n",
            "Epoch 364/500\n",
            "2/2 [==============================] - 0s 19ms/step - loss: 29.4392 - mae: 29.4392\n",
            "Epoch 365/500\n",
            "2/2 [==============================] - 0s 14ms/step - loss: 8.2609 - mae: 8.2609\n",
            "Epoch 366/500\n",
            "2/2 [==============================] - 0s 14ms/step - loss: 6.1080 - mae: 6.1080\n",
            "Epoch 367/500\n",
            "2/2 [==============================] - 0s 2ms/step - loss: 34.5084 - mae: 34.5084\n",
            "Epoch 368/500\n",
            "2/2 [==============================] - 0s 9ms/step - loss: 7.3386 - mae: 7.3386\n",
            "Epoch 369/500\n",
            "2/2 [==============================] - 0s 3ms/step - loss: 8.6853 - mae: 8.6853\n",
            "Epoch 370/500\n",
            "2/2 [==============================] - 0s 11ms/step - loss: 14.2204 - mae: 14.2204\n",
            "Epoch 371/500\n",
            "2/2 [==============================] - 0s 4ms/step - loss: 6.8365 - mae: 6.8365\n",
            "Epoch 372/500\n",
            "2/2 [==============================] - 0s 8ms/step - loss: 6.5532 - mae: 6.5532\n",
            "Epoch 373/500\n",
            "2/2 [==============================] - 0s 8ms/step - loss: 24.1444 - mae: 24.1444\n",
            "Epoch 374/500\n",
            "2/2 [==============================] - 0s 9ms/step - loss: 10.2379 - mae: 10.2379\n",
            "Epoch 375/500\n",
            "2/2 [==============================] - 0s 6ms/step - loss: 12.8609 - mae: 12.8609\n",
            "Epoch 376/500\n",
            "2/2 [==============================] - 0s 11ms/step - loss: 14.7345 - mae: 14.7345\n",
            "Epoch 377/500\n",
            "2/2 [==============================] - 0s 10ms/step - loss: 14.6624 - mae: 14.6624\n",
            "Epoch 378/500\n",
            "2/2 [==============================] - 0s 16ms/step - loss: 16.1848 - mae: 16.1848\n",
            "Epoch 379/500\n",
            "2/2 [==============================] - 0s 10ms/step - loss: 20.6248 - mae: 20.6248\n",
            "Epoch 380/500\n",
            "2/2 [==============================] - 0s 14ms/step - loss: 34.1467 - mae: 34.1467\n",
            "Epoch 381/500\n",
            "2/2 [==============================] - 0s 7ms/step - loss: 8.8398 - mae: 8.8398\n",
            "Epoch 382/500\n",
            "2/2 [==============================] - 0s 7ms/step - loss: 9.5903 - mae: 9.5903\n",
            "Epoch 383/500\n",
            "2/2 [==============================] - 0s 5ms/step - loss: 5.7475 - mae: 5.7475\n",
            "Epoch 384/500\n",
            "2/2 [==============================] - 0s 3ms/step - loss: 8.7343 - mae: 8.7343\n",
            "Epoch 385/500\n",
            "2/2 [==============================] - 0s 3ms/step - loss: 4.9610 - mae: 4.9610\n",
            "Epoch 386/500\n",
            "2/2 [==============================] - 0s 12ms/step - loss: 25.1394 - mae: 25.1394\n",
            "Epoch 387/500\n",
            "2/2 [==============================] - 0s 12ms/step - loss: 15.0848 - mae: 15.0848\n",
            "Epoch 388/500\n",
            "2/2 [==============================] - 0s 14ms/step - loss: 6.6537 - mae: 6.6537\n",
            "Epoch 389/500\n",
            "2/2 [==============================] - 0s 4ms/step - loss: 17.5735 - mae: 17.5735\n",
            "Epoch 390/500\n",
            "2/2 [==============================] - 0s 10ms/step - loss: 23.8722 - mae: 23.8722\n",
            "Epoch 391/500\n",
            "2/2 [==============================] - 0s 3ms/step - loss: 16.4860 - mae: 16.4860\n",
            "Epoch 392/500\n",
            "2/2 [==============================] - 0s 8ms/step - loss: 8.3799 - mae: 8.3799\n",
            "Epoch 393/500\n",
            "2/2 [==============================] - 0s 7ms/step - loss: 18.1540 - mae: 18.1540\n",
            "Epoch 394/500\n",
            "2/2 [==============================] - 0s 8ms/step - loss: 14.2061 - mae: 14.2061\n",
            "Epoch 395/500\n",
            "2/2 [==============================] - 0s 9ms/step - loss: 28.6830 - mae: 28.6830\n",
            "Epoch 396/500\n",
            "2/2 [==============================] - 0s 3ms/step - loss: 8.2067 - mae: 8.2067\n",
            "Epoch 397/500\n",
            "2/2 [==============================] - 0s 10ms/step - loss: 10.4882 - mae: 10.4882\n",
            "Epoch 398/500\n",
            "2/2 [==============================] - 0s 12ms/step - loss: 7.3829 - mae: 7.3829\n",
            "Epoch 399/500\n",
            "2/2 [==============================] - 0s 7ms/step - loss: 15.5525 - mae: 15.5525\n",
            "Epoch 400/500\n",
            "2/2 [==============================] - 0s 13ms/step - loss: 6.7261 - mae: 6.7261\n",
            "Epoch 401/500\n",
            "2/2 [==============================] - 0s 7ms/step - loss: 7.9880 - mae: 7.9880\n",
            "Epoch 402/500\n",
            "2/2 [==============================] - 0s 8ms/step - loss: 16.3915 - mae: 16.3915\n",
            "Epoch 403/500\n",
            "2/2 [==============================] - 0s 10ms/step - loss: 12.3790 - mae: 12.3790\n",
            "Epoch 404/500\n",
            "2/2 [==============================] - 0s 5ms/step - loss: 22.9715 - mae: 22.9715\n",
            "Epoch 405/500\n",
            "2/2 [==============================] - 0s 5ms/step - loss: 18.0145 - mae: 18.0145\n",
            "Epoch 406/500\n",
            "2/2 [==============================] - 0s 7ms/step - loss: 7.0428 - mae: 7.0428\n",
            "Epoch 407/500\n",
            "2/2 [==============================] - 0s 11ms/step - loss: 12.5847 - mae: 12.5847\n",
            "Epoch 408/500\n",
            "2/2 [==============================] - 0s 7ms/step - loss: 5.6744 - mae: 5.6744\n",
            "Epoch 409/500\n",
            "2/2 [==============================] - 0s 12ms/step - loss: 31.0699 - mae: 31.0699\n",
            "Epoch 410/500\n",
            "2/2 [==============================] - 0s 11ms/step - loss: 9.2949 - mae: 9.2949\n",
            "Epoch 411/500\n",
            "2/2 [==============================] - 0s 5ms/step - loss: 14.9031 - mae: 14.9031\n",
            "Epoch 412/500\n",
            "2/2 [==============================] - 0s 11ms/step - loss: 21.8005 - mae: 21.8005\n",
            "Epoch 413/500\n",
            "2/2 [==============================] - 0s 11ms/step - loss: 12.5131 - mae: 12.5131\n",
            "Epoch 414/500\n",
            "2/2 [==============================] - 0s 12ms/step - loss: 6.0941 - mae: 6.0941\n",
            "Epoch 415/500\n",
            "2/2 [==============================] - 0s 24ms/step - loss: 13.2518 - mae: 13.2518\n",
            "Epoch 416/500\n",
            "2/2 [==============================] - 0s 13ms/step - loss: 27.4879 - mae: 27.4879\n",
            "Epoch 417/500\n",
            "2/2 [==============================] - 0s 15ms/step - loss: 10.4894 - mae: 10.4894\n",
            "Epoch 418/500\n",
            "2/2 [==============================] - 0s 8ms/step - loss: 12.8735 - mae: 12.8735\n",
            "Epoch 419/500\n",
            "2/2 [==============================] - 0s 11ms/step - loss: 15.9124 - mae: 15.9124\n",
            "Epoch 420/500\n",
            "2/2 [==============================] - 0s 9ms/step - loss: 24.8210 - mae: 24.8210\n",
            "Epoch 421/500\n",
            "2/2 [==============================] - 0s 6ms/step - loss: 17.2069 - mae: 17.2069\n",
            "Epoch 422/500\n",
            "2/2 [==============================] - 0s 10ms/step - loss: 7.8224 - mae: 7.8224\n",
            "Epoch 423/500\n",
            "2/2 [==============================] - 0s 17ms/step - loss: 25.4446 - mae: 25.4446\n",
            "Epoch 424/500\n",
            "2/2 [==============================] - 0s 12ms/step - loss: 14.9594 - mae: 14.9594\n",
            "Epoch 425/500\n",
            "2/2 [==============================] - 0s 10ms/step - loss: 7.1071 - mae: 7.1071\n",
            "Epoch 426/500\n",
            "2/2 [==============================] - 0s 6ms/step - loss: 20.1569 - mae: 20.1569\n",
            "Epoch 427/500\n",
            "2/2 [==============================] - 0s 19ms/step - loss: 6.2677 - mae: 6.2677\n",
            "Epoch 428/500\n",
            "2/2 [==============================] - 0s 7ms/step - loss: 12.6563 - mae: 12.6563\n",
            "Epoch 429/500\n",
            "2/2 [==============================] - 0s 8ms/step - loss: 12.0960 - mae: 12.0960\n",
            "Epoch 430/500\n",
            "2/2 [==============================] - 0s 12ms/step - loss: 11.0939 - mae: 11.0939\n",
            "Epoch 431/500\n",
            "2/2 [==============================] - 0s 14ms/step - loss: 10.0177 - mae: 10.0177\n",
            "Epoch 432/500\n",
            "2/2 [==============================] - 0s 11ms/step - loss: 13.3634 - mae: 13.3634\n",
            "Epoch 433/500\n",
            "2/2 [==============================] - 0s 8ms/step - loss: 11.3840 - mae: 11.3840\n",
            "Epoch 434/500\n",
            "2/2 [==============================] - 0s 7ms/step - loss: 30.4181 - mae: 30.4181\n",
            "Epoch 435/500\n",
            "2/2 [==============================] - 0s 5ms/step - loss: 10.5025 - mae: 10.5025\n",
            "Epoch 436/500\n",
            "2/2 [==============================] - 0s 8ms/step - loss: 28.9030 - mae: 28.9030\n",
            "Epoch 437/500\n",
            "2/2 [==============================] - 0s 6ms/step - loss: 8.6079 - mae: 8.6079\n",
            "Epoch 438/500\n",
            "2/2 [==============================] - 0s 7ms/step - loss: 12.7370 - mae: 12.7370\n",
            "Epoch 439/500\n",
            "2/2 [==============================] - 0s 9ms/step - loss: 33.6905 - mae: 33.6905\n",
            "Epoch 440/500\n",
            "2/2 [==============================] - 0s 6ms/step - loss: 15.1092 - mae: 15.1092\n",
            "Epoch 441/500\n",
            "2/2 [==============================] - 0s 10ms/step - loss: 17.4910 - mae: 17.4910\n",
            "Epoch 442/500\n",
            "2/2 [==============================] - 0s 9ms/step - loss: 22.3351 - mae: 22.3351\n",
            "Epoch 443/500\n",
            "2/2 [==============================] - 0s 4ms/step - loss: 23.5134 - mae: 23.5134\n",
            "Epoch 444/500\n",
            "2/2 [==============================] - 0s 4ms/step - loss: 10.9375 - mae: 10.9375\n",
            "Epoch 445/500\n",
            "2/2 [==============================] - 0s 10ms/step - loss: 14.9323 - mae: 14.9323\n",
            "Epoch 446/500\n",
            "2/2 [==============================] - 0s 4ms/step - loss: 18.0209 - mae: 18.0209\n",
            "Epoch 447/500\n",
            "2/2 [==============================] - 0s 6ms/step - loss: 5.4084 - mae: 5.4084\n",
            "Epoch 448/500\n",
            "2/2 [==============================] - 0s 5ms/step - loss: 10.0721 - mae: 10.0721\n",
            "Epoch 449/500\n",
            "2/2 [==============================] - 0s 4ms/step - loss: 14.0213 - mae: 14.0213\n",
            "Epoch 450/500\n",
            "2/2 [==============================] - 0s 5ms/step - loss: 16.7930 - mae: 16.7930\n",
            "Epoch 451/500\n",
            "2/2 [==============================] - 0s 4ms/step - loss: 14.2969 - mae: 14.2969\n",
            "Epoch 452/500\n",
            "2/2 [==============================] - 0s 4ms/step - loss: 30.6382 - mae: 30.6382\n",
            "Epoch 453/500\n",
            "2/2 [==============================] - 0s 4ms/step - loss: 7.6471 - mae: 7.6471\n",
            "Epoch 454/500\n",
            "2/2 [==============================] - 0s 8ms/step - loss: 28.1639 - mae: 28.1639\n",
            "Epoch 455/500\n",
            "2/2 [==============================] - 0s 8ms/step - loss: 7.9552 - mae: 7.9552\n",
            "Epoch 456/500\n",
            "2/2 [==============================] - 0s 5ms/step - loss: 10.4065 - mae: 10.4065\n",
            "Epoch 457/500\n",
            "2/2 [==============================] - 0s 8ms/step - loss: 15.0418 - mae: 15.0418\n",
            "Epoch 458/500\n",
            "2/2 [==============================] - 0s 5ms/step - loss: 16.5709 - mae: 16.5709\n",
            "Epoch 459/500\n",
            "2/2 [==============================] - 0s 6ms/step - loss: 26.8802 - mae: 26.8802\n",
            "Epoch 460/500\n",
            "2/2 [==============================] - 0s 9ms/step - loss: 12.4289 - mae: 12.4289\n",
            "Epoch 461/500\n",
            "2/2 [==============================] - 0s 4ms/step - loss: 12.4970 - mae: 12.4970\n",
            "Epoch 462/500\n",
            "2/2 [==============================] - 0s 5ms/step - loss: 13.3265 - mae: 13.3265\n",
            "Epoch 463/500\n",
            "2/2 [==============================] - 0s 12ms/step - loss: 29.5723 - mae: 29.5723\n",
            "Epoch 464/500\n",
            "2/2 [==============================] - 0s 9ms/step - loss: 3.4551 - mae: 3.4551\n",
            "Epoch 465/500\n",
            "2/2 [==============================] - 0s 6ms/step - loss: 15.2294 - mae: 15.2294\n",
            "Epoch 466/500\n",
            "2/2 [==============================] - 0s 12ms/step - loss: 20.8631 - mae: 20.8631\n",
            "Epoch 467/500\n",
            "2/2 [==============================] - 0s 13ms/step - loss: 30.4324 - mae: 30.4324\n",
            "Epoch 468/500\n",
            "2/2 [==============================] - 0s 13ms/step - loss: 11.0177 - mae: 11.0177\n",
            "Epoch 469/500\n",
            "2/2 [==============================] - 0s 11ms/step - loss: 12.7861 - mae: 12.7861\n",
            "Epoch 470/500\n",
            "2/2 [==============================] - 0s 7ms/step - loss: 3.2208 - mae: 3.2208\n",
            "Epoch 471/500\n",
            "2/2 [==============================] - 0s 14ms/step - loss: 16.7157 - mae: 16.7157\n",
            "Epoch 472/500\n",
            "2/2 [==============================] - 0s 10ms/step - loss: 13.4055 - mae: 13.4055\n",
            "Epoch 473/500\n",
            "2/2 [==============================] - 0s 13ms/step - loss: 15.2931 - mae: 15.2931\n",
            "Epoch 474/500\n",
            "2/2 [==============================] - 0s 15ms/step - loss: 11.7605 - mae: 11.7605\n",
            "Epoch 475/500\n",
            "2/2 [==============================] - 0s 10ms/step - loss: 16.4321 - mae: 16.4321\n",
            "Epoch 476/500\n",
            "2/2 [==============================] - 0s 7ms/step - loss: 14.0069 - mae: 14.0069\n",
            "Epoch 477/500\n",
            "2/2 [==============================] - 0s 9ms/step - loss: 30.5862 - mae: 30.5862\n",
            "Epoch 478/500\n",
            "2/2 [==============================] - 0s 6ms/step - loss: 8.1694 - mae: 8.1694\n",
            "Epoch 479/500\n",
            "2/2 [==============================] - 0s 2ms/step - loss: 11.2276 - mae: 11.2276\n",
            "Epoch 480/500\n",
            "2/2 [==============================] - 0s 6ms/step - loss: 17.8935 - mae: 17.8935\n",
            "Epoch 481/500\n",
            "2/2 [==============================] - 0s 10ms/step - loss: 15.8000 - mae: 15.8000\n",
            "Epoch 482/500\n",
            "2/2 [==============================] - 0s 8ms/step - loss: 21.2924 - mae: 21.2924\n",
            "Epoch 483/500\n",
            "2/2 [==============================] - 0s 9ms/step - loss: 25.4153 - mae: 25.4153\n",
            "Epoch 484/500\n",
            "2/2 [==============================] - 0s 18ms/step - loss: 24.0084 - mae: 24.0084\n",
            "Epoch 485/500\n",
            "2/2 [==============================] - 0s 6ms/step - loss: 5.7663 - mae: 5.7663\n",
            "Epoch 486/500\n",
            "2/2 [==============================] - 0s 7ms/step - loss: 20.0279 - mae: 20.0279\n",
            "Epoch 487/500\n",
            "2/2 [==============================] - 0s 4ms/step - loss: 14.0383 - mae: 14.0383\n",
            "Epoch 488/500\n",
            "2/2 [==============================] - 0s 7ms/step - loss: 30.6057 - mae: 30.6057\n",
            "Epoch 489/500\n",
            "2/2 [==============================] - 0s 12ms/step - loss: 11.9324 - mae: 11.9324\n",
            "Epoch 490/500\n",
            "2/2 [==============================] - 0s 13ms/step - loss: 12.7299 - mae: 12.7299\n",
            "Epoch 491/500\n",
            "2/2 [==============================] - 0s 7ms/step - loss: 23.6069 - mae: 23.6069\n",
            "Epoch 492/500\n",
            "2/2 [==============================] - 0s 5ms/step - loss: 20.5582 - mae: 20.5582\n",
            "Epoch 493/500\n",
            "2/2 [==============================] - 0s 5ms/step - loss: 4.9865 - mae: 4.9865\n",
            "Epoch 494/500\n",
            "2/2 [==============================] - 0s 3ms/step - loss: 12.8093 - mae: 12.8093\n",
            "Epoch 495/500\n",
            "2/2 [==============================] - 0s 11ms/step - loss: 13.3707 - mae: 13.3707\n",
            "Epoch 496/500\n",
            "2/2 [==============================] - 0s 15ms/step - loss: 12.6678 - mae: 12.6678\n",
            "Epoch 497/500\n",
            "2/2 [==============================] - 0s 47ms/step - loss: 17.6088 - mae: 17.6088\n",
            "Epoch 498/500\n",
            "2/2 [==============================] - 0s 15ms/step - loss: 23.5821 - mae: 23.5821\n",
            "Epoch 499/500\n",
            "2/2 [==============================] - 0s 8ms/step - loss: 9.3903 - mae: 9.3903\n",
            "Epoch 500/500\n",
            "2/2 [==============================] - 0s 14ms/step - loss: 14.6258 - mae: 14.6258\n"
          ]
        },
        {
          "output_type": "execute_result",
          "data": {
            "text/plain": [
              "<keras.callbacks.History at 0x7f5f90556090>"
            ]
          },
          "metadata": {},
          "execution_count": 44
        }
      ]
    },
    {
      "cell_type": "code",
      "source": [
        "y_preds_3=model_3.predict(X_test)"
      ],
      "metadata": {
        "colab": {
          "base_uri": "https://localhost:8080/"
        },
        "id": "RO8nltA1ESBE",
        "outputId": "86f2f85f-ff77-4c79-a0da-4600fdc0d406"
      },
      "execution_count": 45,
      "outputs": [
        {
          "output_type": "stream",
          "name": "stdout",
          "text": [
            "WARNING:tensorflow:6 out of the last 6 calls to <function Model.make_predict_function.<locals>.predict_function at 0x7f5f908a80e0> triggered tf.function retracing. Tracing is expensive and the excessive number of tracings could be due to (1) creating @tf.function repeatedly in a loop, (2) passing tensors with different shapes, (3) passing Python objects instead of tensors. For (1), please define your @tf.function outside of the loop. For (2), @tf.function has experimental_relax_shapes=True option that relaxes argument shapes that can avoid unnecessary retracing. For (3), please refer to https://www.tensorflow.org/guide/function#controlling_retracing and https://www.tensorflow.org/api_docs/python/tf/function for  more details.\n"
          ]
        }
      ]
    },
    {
      "cell_type": "code",
      "source": [
        "plot_prediction(predictions=y_preds_3)"
      ],
      "metadata": {
        "colab": {
          "base_uri": "https://localhost:8080/",
          "height": 428
        },
        "id": "DlzRk3k_EfSu",
        "outputId": "fd219ec9-7f3f-42bd-acc8-00f4edf2cc7c"
      },
      "execution_count": 46,
      "outputs": [
        {
          "output_type": "display_data",
          "data": {
            "image/png": "[encoded data removed]",
            "text/plain": [
              "<Figure size 720x504 with 1 Axes>"
            ]
          },
          "metadata": {
            "needs_background": "light"
          }
        }
      ]
    },
    {
      "cell_type": "code",
      "source": [
        "mae3=tf.metrics.mean_absolute_error(y_true=y_test,y_pred=y_preds_3.squeeze())\n",
        "mse3=tf.metrics.mean_absolute_error(y_true=y_test,y_pred=y_preds_3.squeeze())\n",
        "mae3,mse3"
      ],
      "metadata": {
        "colab": {
          "base_uri": "https://localhost:8080/"
        },
        "id": "ORhTTqVsEXta",
        "outputId": "4315926f-9adb-4c70-9a49-8899b7e5e4b4"
      },
      "execution_count": 47,
      "outputs": [
        {
          "output_type": "execute_result",
          "data": {
            "text/plain": [
              "(<tf.Tensor: shape=(), dtype=float32, numpy=68.68786>,\n",
              " <tf.Tensor: shape=(), dtype=float32, numpy=68.68786>)"
            ]
          },
          "metadata": {},
          "execution_count": 47
        }
      ]
    },
    {
      "cell_type": "markdown",
      "source": [
        "# **Comparing the Results**"
      ],
      "metadata": {
        "id": "ItrzE0VNE04V"
      }
    },
    {
      "cell_type": "code",
      "source": [
        "model_results=[[\"model_1\",mae1,mse1],\n",
        "               [\"model_2\",mae2,mse2],\n",
        "               [\"model_3\",mae3,mse3]]"
      ],
      "metadata": {
        "id": "m5Z9A5H1E0YN"
      },
      "execution_count": 48,
      "outputs": []
    },
    {
      "cell_type": "code",
      "source": [
        "import pandas as pd\n",
        "all_results=pd.DataFrame(model_results,columns=[\"Model\",\"MAE\", \"MSE\"])\n",
        "all_results"
      ],
      "metadata": {
        "colab": {
          "base_uri": "https://localhost:8080/",
          "height": 144
        },
        "id": "gUIHDGDkFIZ7",
        "outputId": "a233a47f-e801-422b-f64c-40cecf5db982"
      },
      "execution_count": 49,
      "outputs": [
        {
          "output_type": "execute_result",
          "data": {
            "text/html": [
              "\n",
              "  <div id=\"df-c52a71b6-c522-4fef-a2e9-a353a45f2c16\">\n",
              "    <div class=\"colab-df-container\">\n",
              "      <div>\n",
              "<style scoped>\n",
              "    .dataframe tbody tr th:only-of-type {\n",
              "        vertical-align: middle;\n",
              "    }\n",
              "\n",
              "    .dataframe tbody tr th {\n",
              "        vertical-align: top;\n",
              "    }\n",
              "\n",
              "    .dataframe thead th {\n",
              "        text-align: right;\n",
              "    }\n",
              "</style>\n",
              "<table border=\"1\" class=\"dataframe\">\n",
              "  <thead>\n",
              "    <tr style=\"text-align: right;\">\n",
              "      <th></th>\n",
              "      <th>Model</th>\n",
              "      <th>MAE</th>\n",
              "      <th>MSE</th>\n",
              "    </tr>\n",
              "  </thead>\n",
              "  <tbody>\n",
              "    <tr>\n",
              "      <th>0</th>\n",
              "      <td>model_1</td>\n",
              "      <td>tf.Tensor(18.745327, shape=(), dtype=float32)</td>\n",
              "      <td>tf.Tensor(18.745327, shape=(), dtype=float32)</td>\n",
              "    </tr>\n",
              "    <tr>\n",
              "      <th>1</th>\n",
              "      <td>model_2</td>\n",
              "      <td>tf.Tensor(1.9098114, shape=(), dtype=float32)</td>\n",
              "      <td>tf.Tensor(1.9098114, shape=(), dtype=float32)</td>\n",
              "    </tr>\n",
              "    <tr>\n",
              "      <th>2</th>\n",
              "      <td>model_3</td>\n",
              "      <td>tf.Tensor(68.68786, shape=(), dtype=float32)</td>\n",
              "      <td>tf.Tensor(68.68786, shape=(), dtype=float32)</td>\n",
              "    </tr>\n",
              "  </tbody>\n",
              "</table>\n",
              "</div>\n",
              "      <button class=\"colab-df-convert\" onclick=\"convertToInteractive('df-c52a71b6-c522-4fef-a2e9-a353a45f2c16')\"\n",
              "              title=\"Convert this dataframe to an interactive table.\"\n",
              "              style=\"display:none;\">\n",
              "        \n",
              "  <svg xmlns=\"http://www.w3.org/2000/svg\" height=\"24px\"viewBox=\"0 0 24 24\"\n",
              "       width=\"24px\">\n",
              "    <path d=\"M0 0h24v24H0V0z\" fill=\"none\"/>\n",
              "    <path d=\"M18.56 5.44l.94 2.06.94-2.06 2.06-.94-2.06-.94-.94-2.06-.94 2.06-2.06.94zm-11 1L8.5 8.5l.94-2.06 2.06-.94-2.06-.94L8.5 2.5l-.94 2.06-2.06.94zm10 10l.94 2.06.94-2.06 2.06-.94-2.06-.94-.94-2.06-.94 2.06-2.06.94z\"/><path d=\"M17.41 7.96l-1.37-1.37c-.4-.4-.92-.59-1.43-.59-.52 0-1.04.2-1.43.59L10.3 9.45l-7.72 7.72c-.78.78-.78 2.05 0 2.83L4 21.41c.39.39.9.59 1.41.59.51 0 1.02-.2 1.41-.59l7.78-7.78 2.81-2.81c.8-.78.8-2.07 0-2.86zM5.41 20L4 18.59l7.72-7.72 1.47 1.35L5.41 20z\"/>\n",
              "  </svg>\n",
              "      </button>\n",
              "      \n",
              "  <style>\n",
              "    .colab-df-container {\n",
              "      display:flex;\n",
              "      flex-wrap:wrap;\n",
              "      gap: 12px;\n",
              "    }\n",
              "\n",
              "    .colab-df-convert {\n",
              "      background-color: #E8F0FE;\n",
              "      border: none;\n",
              "      border-radius: 50%;\n",
              "      cursor: pointer;\n",
              "      display: none;\n",
              "      fill: #1967D2;\n",
              "      height: 32px;\n",
              "      padding: 0 0 0 0;\n",
              "      width: 32px;\n",
              "    }\n",
              "\n",
              "    .colab-df-convert:hover {\n",
              "      background-color: #E2EBFA;\n",
              "      box-shadow: 0px 1px 2px rgba(60, 64, 67, 0.3), 0px 1px 3px 1px rgba(60, 64, 67, 0.15);\n",
              "      fill: #174EA6;\n",
              "    }\n",
              "\n",
              "    [theme=dark] .colab-df-convert {\n",
              "      background-color: #3B4455;\n",
              "      fill: #D2E3FC;\n",
              "    }\n",
              "\n",
              "    [theme=dark] .colab-df-convert:hover {\n",
              "      background-color: #434B5C;\n",
              "      box-shadow: 0px 1px 3px 1px rgba(0, 0, 0, 0.15);\n",
              "      filter: drop-shadow(0px 1px 2px rgba(0, 0, 0, 0.3));\n",
              "      fill: #FFFFFF;\n",
              "    }\n",
              "  </style>\n",
              "\n",
              "      <script>\n",
              "        const buttonEl =\n",
              "          document.querySelector('#df-c52a71b6-c522-4fef-a2e9-a353a45f2c16 button.colab-df-convert');\n",
              "        buttonEl.style.display =\n",
              "          google.colab.kernel.accessAllowed ? 'block' : 'none';\n",
              "\n",
              "        async function convertToInteractive(key) {\n",
              "          const element = document.querySelector('#df-c52a71b6-c522-4fef-a2e9-a353a45f2c16');\n",
              "          const dataTable =\n",
              "            await google.colab.kernel.invokeFunction('convertToInteractive',\n",
              "                                                     [key], {});\n",
              "          if (!dataTable) return;\n",
              "\n",
              "          const docLinkHtml = 'Like what you see? Visit the ' +\n",
              "            '<a target=\"_blank\" href=https://colab.research.google.com/notebooks/data_table.ipynb>data table notebook</a>'\n",
              "            + ' to learn more about interactive tables.';\n",
              "          element.innerHTML = '';\n",
              "          dataTable['output_type'] = 'display_data';\n",
              "          await google.colab.output.renderOutput(dataTable, element);\n",
              "          const docLink = document.createElement('div');\n",
              "          docLink.innerHTML = docLinkHtml;\n",
              "          element.appendChild(docLink);\n",
              "        }\n",
              "      </script>\n",
              "    </div>\n",
              "  </div>\n",
              "  "
            ],
            "text/plain": [
              "     Model  ...                                            MSE\n",
              "0  model_1  ...  tf.Tensor(18.745327, shape=(), dtype=float32)\n",
              "1  model_2  ...  tf.Tensor(1.9098114, shape=(), dtype=float32)\n",
              "2  model_3  ...   tf.Tensor(68.68786, shape=(), dtype=float32)\n",
              "\n",
              "[3 rows x 3 columns]"
            ]
          },
          "metadata": {},
          "execution_count": 49
        }
      ]
    },
    {
      "cell_type": "markdown",
      "source": [
        "# **Saving a Model**"
      ],
      "metadata": {
        "id": "6JfLYpww85lL"
      }
    },
    {
      "cell_type": "code",
      "source": [
        "#Model Save\n",
        "model_2.save(\"best_model_SaveModel_format\")\n"
      ],
      "metadata": {
        "colab": {
          "base_uri": "https://localhost:8080/"
        },
        "id": "zKnZGCg08-lM",
        "outputId": "17878cb8-fd2c-46e5-9bfb-3d20a44458f4"
      },
      "execution_count": 50,
      "outputs": [
        {
          "output_type": "stream",
          "name": "stdout",
          "text": [
            "INFO:tensorflow:Assets written to: best_model_SaveModel_format/assets\n"
          ]
        }
      ]
    },
    {
      "cell_type": "code",
      "source": [
        "#checkit out \n",
        "!ls best_model_SavemModel_format"
      ],
      "metadata": {
        "colab": {
          "base_uri": "https://localhost:8080/"
        },
        "id": "E-VVDprI9SPd",
        "outputId": "4d16cf1e-6066-4ae8-bc28-f9627328d5c3"
      },
      "execution_count": 51,
      "outputs": [
        {
          "output_type": "stream",
          "name": "stdout",
          "text": [
            "ls: cannot access 'best_model_SavemModel_format': No such file or directory\n"
          ]
        }
      ]
    },
    {
      "cell_type": "code",
      "source": [
        "#Load a model from the SaveModel Format\n",
        "loaded_save_model=tf.keras.models.load_model(\"best_model_SaveModel_format\")\n",
        "\n",
        "#keras is the backend and tensor is for the frontend"
      ],
      "metadata": {
        "id": "wGv_Lr1P9ikU"
      },
      "execution_count": 62,
      "outputs": []
    },
    {
      "cell_type": "code",
      "source": [
        "loaded_save_model.summary()\n"
      ],
      "metadata": {
        "colab": {
          "base_uri": "https://localhost:8080/"
        },
        "id": "seHgH-lj-Oq9",
        "outputId": "7286daa4-e5e0-4b87-c4d3-5081c1b7d02e"
      },
      "execution_count": 63,
      "outputs": [
        {
          "output_type": "stream",
          "name": "stdout",
          "text": [
            "Model: \"sequential_4\"\n",
            "_________________________________________________________________\n",
            " Layer (type)                Output Shape              Param #   \n",
            "=================================================================\n",
            " dense_4 (Dense)             (None, 1)                 2         \n",
            "                                                                 \n",
            " dense_5 (Dense)             (None, 1)                 2         \n",
            "                                                                 \n",
            "=================================================================\n",
            "Total params: 4\n",
            "Trainable params: 4\n",
            "Non-trainable params: 0\n",
            "_________________________________________________________________\n"
          ]
        }
      ]
    },
    {
      "cell_type": "code",
      "source": [
        "#Compare Model_2 with the Saved_LoadedModel\n",
        "model_2_preds=model_2.predict(X_test)\n",
        "saved_model_preds=loaded_save_model.predict(X_test)\n",
        "\n",
        "mse_load=tf.metrics.mean_squared_error(y_test,saved_model_preds.squeeze()).numpy()"
      ],
      "metadata": {
        "id": "TS-j4e53_Fdg"
      },
      "execution_count": 64,
      "outputs": []
    },
    {
      "cell_type": "code",
      "source": [
        "mse_load"
      ],
      "metadata": {
        "colab": {
          "base_uri": "https://localhost:8080/"
        },
        "id": "D5ArzLrV_7ij",
        "outputId": "a349da61-8572-44e3-8a2e-278502c27302"
      },
      "execution_count": 65,
      "outputs": [
        {
          "output_type": "execute_result",
          "data": {
            "text/plain": [
              "5.459232"
            ]
          },
          "metadata": {},
          "execution_count": 65
        }
      ]
    },
    {
      "cell_type": "code",
      "source": [
        "mse_model2=tf.metrics.mean_squared_error(y_test,y_preds_2.squeeze()).numpy()\n",
        "#loaded model2, the saved one\n",
        "\n"
      ],
      "metadata": {
        "id": "BXDsh-WZALpT"
      },
      "execution_count": 72,
      "outputs": []
    },
    {
      "cell_type": "code",
      "source": [
        "mse_model2"
      ],
      "metadata": {
        "colab": {
          "base_uri": "https://localhost:8080/"
        },
        "id": "elb3R90eAtIU",
        "outputId": "6523659e-2f0b-41d1-b1c5-50b1a979dcd6"
      },
      "execution_count": 73,
      "outputs": [
        {
          "output_type": "execute_result",
          "data": {
            "text/plain": [
              "5.459232"
            ]
          },
          "metadata": {},
          "execution_count": 73
        }
      ]
    },
    {
      "cell_type": "code",
      "source": [
        "#Download The Model\n",
        "\n",
        "from google.colab import files\n",
        "files.download(\"best_model_SaveModel_format\")"
      ],
      "metadata": {
        "id": "0FARNa_CE31j"
      },
      "execution_count": null,
      "outputs": []
    }
  ]
}